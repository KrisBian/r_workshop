{
 "cells": [
  {
   "cell_type": "markdown",
   "metadata": {},
   "source": [
    "# Introduction to data analysis with R\n",
    "## Data import\n",
    "### Set working environment"
   ]
  },
  {
   "cell_type": "code",
   "execution_count": 1,
   "metadata": {},
   "outputs": [
    {
     "name": "stderr",
     "output_type": "stream",
     "text": [
      "Loading required package: rJava\n",
      "Loading required package: xlsxjars\n",
      "gdata: read.xls support for 'XLS' (Excel 97-2004) files ENABLED.\n",
      "\n",
      "gdata: read.xls support for 'XLSX' (Excel 2007+) files ENABLED.\n",
      "\n",
      "Attaching package: ‘gdata’\n",
      "\n",
      "The following object is masked from ‘package:stats’:\n",
      "\n",
      "    nobs\n",
      "\n",
      "The following object is masked from ‘package:utils’:\n",
      "\n",
      "    object.size\n",
      "\n",
      "The following object is masked from ‘package:base’:\n",
      "\n",
      "    startsWith\n",
      "\n",
      "\n",
      "Attaching package: ‘dplyr’\n",
      "\n",
      "The following objects are masked from ‘package:gdata’:\n",
      "\n",
      "    combine, first, last\n",
      "\n",
      "The following objects are masked from ‘package:stats’:\n",
      "\n",
      "    filter, lag\n",
      "\n",
      "The following objects are masked from ‘package:base’:\n",
      "\n",
      "    intersect, setdiff, setequal, union\n",
      "\n"
     ]
    },
    {
     "data": {
      "text/html": [
       "'/Users/mjmoon/Projects/r_workshop/scripts'"
      ],
      "text/latex": [
       "'/Users/mjmoon/Projects/r\\_workshop/scripts'"
      ],
      "text/markdown": [
       "'/Users/mjmoon/Projects/r_workshop/scripts'"
      ],
      "text/plain": [
       "[1] \"/Users/mjmoon/Projects/r_workshop/scripts\""
      ]
     },
     "metadata": {},
     "output_type": "display_data"
    }
   ],
   "source": [
    "library(xlsx)\n",
    "library(gdata)\n",
    "# install.packages('tidyverse')\n",
    "library(dplyr)\n",
    "library(readxl)\n",
    "library(RColorBrewer)\n",
    "# setwd('~/Projects/r_workshop/)\n",
    "getwd()"
   ]
  },
  {
   "cell_type": "markdown",
   "metadata": {},
   "source": [
    "+ Set to Project folder with R Project (RStudio)\n",
    "+ Set to notebook folder with Jupyter notebook\n",
    "+ Otherwise, use `setwd(...)` command\n",
    "\n",
    "### Read data from files\n",
    "+ `read.csv()`\n",
    "+ `read.xlsx()`"
   ]
  },
  {
   "cell_type": "code",
   "execution_count": 2,
   "metadata": {},
   "outputs": [
    {
     "data": {
      "text/html": [
       "<table>\n",
       "<thead><tr><th scope=col>ID</th><th scope=col>Age</th><th scope=col>Sex</th><th scope=col>Race</th><th scope=col>Area</th><th scope=col>SES</th><th scope=col>smoke</th><th scope=col>BP</th><th scope=col>Start</th><th scope=col>stop</th><th scope=col>event</th></tr></thead>\n",
       "<tbody>\n",
       "\t<tr><td>1         </td><td>63        </td><td>F         </td><td>White     </td><td>Rural     </td><td>Medium    </td><td>0         </td><td>65.42547  </td><td>01/01/2010</td><td>06/05/2010</td><td>1         </td></tr>\n",
       "\t<tr><td>2         </td><td>69        </td><td>F         </td><td>White     </td><td>Rural     </td><td>Low       </td><td>0         </td><td>67.71778  </td><td>01/01/2010</td><td>03/04/2010</td><td>1         </td></tr>\n",
       "\t<tr><td>3         </td><td>70        </td><td>F         </td><td>White     </td><td>Rural     </td><td>Medium    </td><td>0         </td><td>72.98176  </td><td>01/01/2010</td><td>31/03/2010</td><td>1         </td></tr>\n",
       "\t<tr><td>4         </td><td>62        </td><td>M         </td><td>White     </td><td>Rural     </td><td>High      </td><td>0         </td><td>69.30087  </td><td>01/01/2010</td><td>29/04/2010</td><td>1         </td></tr>\n",
       "\t<tr><td>5         </td><td>68        </td><td>M         </td><td>NA        </td><td>Rural     </td><td>NA        </td><td>0         </td><td>66.78176  </td><td>01/01/2010</td><td>11/03/2010</td><td>1         </td></tr>\n",
       "\t<tr><td>6         </td><td>65        </td><td>M         </td><td>White     </td><td>Rural     </td><td>Low       </td><td>0         </td><td>63.36826  </td><td>01/01/2010</td><td>20/04/2010</td><td>1         </td></tr>\n",
       "</tbody>\n",
       "</table>\n"
      ],
      "text/latex": [
       "\\begin{tabular}{r|lllllllllll}\n",
       " ID & Age & Sex & Race & Area & SES & smoke & BP & Start & stop & event\\\\\n",
       "\\hline\n",
       "\t 1          & 63         & F          & White      & Rural      & Medium     & 0          & 65.42547   & 01/01/2010 & 06/05/2010 & 1         \\\\\n",
       "\t 2          & 69         & F          & White      & Rural      & Low        & 0          & 67.71778   & 01/01/2010 & 03/04/2010 & 1         \\\\\n",
       "\t 3          & 70         & F          & White      & Rural      & Medium     & 0          & 72.98176   & 01/01/2010 & 31/03/2010 & 1         \\\\\n",
       "\t 4          & 62         & M          & White      & Rural      & High       & 0          & 69.30087   & 01/01/2010 & 29/04/2010 & 1         \\\\\n",
       "\t 5          & 68         & M          & NA         & Rural      & NA         & 0          & 66.78176   & 01/01/2010 & 11/03/2010 & 1         \\\\\n",
       "\t 6          & 65         & M          & White      & Rural      & Low        & 0          & 63.36826   & 01/01/2010 & 20/04/2010 & 1         \\\\\n",
       "\\end{tabular}\n"
      ],
      "text/markdown": [
       "\n",
       "ID | Age | Sex | Race | Area | SES | smoke | BP | Start | stop | event | \n",
       "|---|---|---|---|---|---|\n",
       "| 1          | 63         | F          | White      | Rural      | Medium     | 0          | 65.42547   | 01/01/2010 | 06/05/2010 | 1          | \n",
       "| 2          | 69         | F          | White      | Rural      | Low        | 0          | 67.71778   | 01/01/2010 | 03/04/2010 | 1          | \n",
       "| 3          | 70         | F          | White      | Rural      | Medium     | 0          | 72.98176   | 01/01/2010 | 31/03/2010 | 1          | \n",
       "| 4          | 62         | M          | White      | Rural      | High       | 0          | 69.30087   | 01/01/2010 | 29/04/2010 | 1          | \n",
       "| 5          | 68         | M          | NA         | Rural      | NA         | 0          | 66.78176   | 01/01/2010 | 11/03/2010 | 1          | \n",
       "| 6          | 65         | M          | White      | Rural      | Low        | 0          | 63.36826   | 01/01/2010 | 20/04/2010 | 1          | \n",
       "\n",
       "\n"
      ],
      "text/plain": [
       "  ID Age Sex Race  Area  SES    smoke BP       Start      stop       event\n",
       "1 1  63  F   White Rural Medium 0     65.42547 01/01/2010 06/05/2010 1    \n",
       "2 2  69  F   White Rural Low    0     67.71778 01/01/2010 03/04/2010 1    \n",
       "3 3  70  F   White Rural Medium 0     72.98176 01/01/2010 31/03/2010 1    \n",
       "4 4  62  M   White Rural High   0     69.30087 01/01/2010 29/04/2010 1    \n",
       "5 5  68  M   NA    Rural NA     0     66.78176 01/01/2010 11/03/2010 1    \n",
       "6 6  65  M   White Rural Low    0     63.36826 01/01/2010 20/04/2010 1    "
      ]
     },
     "metadata": {},
     "output_type": "display_data"
    }
   ],
   "source": [
    "df <- read.csv('../data/R_intro_data.csv', header=TRUE)\n",
    "head(df)"
   ]
  },
  {
   "cell_type": "code",
   "execution_count": 3,
   "metadata": {},
   "outputs": [
    {
     "data": {
      "text/html": [
       "<table>\n",
       "<thead><tr><th scope=col>ID</th><th scope=col>Age</th><th scope=col>Sex</th><th scope=col>Race</th><th scope=col>Area</th><th scope=col>SES</th><th scope=col>smoke</th><th scope=col>BP</th><th scope=col>Start</th><th scope=col>stop</th><th scope=col>event</th></tr></thead>\n",
       "<tbody>\n",
       "\t<tr><td>1                  </td><td>63                 </td><td>F                  </td><td>White              </td><td>Rural              </td><td>Medium             </td><td>0                  </td><td>65.42547           </td><td>2010-01-01 05:00:00</td><td>2010-05-06 07:17:03</td><td>1                  </td></tr>\n",
       "\t<tr><td>2                  </td><td>69                 </td><td>F                  </td><td>White              </td><td>Rural              </td><td>Low                </td><td>0                  </td><td>67.71778           </td><td>2010-01-01 05:00:00</td><td>2010-04-03 20:37:34</td><td>1                  </td></tr>\n",
       "\t<tr><td>3                  </td><td>70                 </td><td>F                  </td><td>White              </td><td>Rural              </td><td>Medium             </td><td>0                  </td><td>72.98176           </td><td>2010-01-01 05:00:00</td><td>2010-03-31 00:39:51</td><td>1                  </td></tr>\n",
       "\t<tr><td>4                  </td><td>62                 </td><td>M                  </td><td>White              </td><td>Rural              </td><td>High               </td><td>0                  </td><td>69.30087           </td><td>2010-01-01 05:00:00</td><td>2010-04-29 11:44:42</td><td>1                  </td></tr>\n",
       "\t<tr><td>5                  </td><td>68                 </td><td>M                  </td><td>NA                 </td><td>Rural              </td><td>NA                 </td><td>0                  </td><td>66.78176           </td><td>2010-01-01 05:00:00</td><td>2010-03-11 14:40:25</td><td>1                  </td></tr>\n",
       "\t<tr><td>6                  </td><td>65                 </td><td>M                  </td><td>White              </td><td>Rural              </td><td>Low                </td><td>0                  </td><td>63.36826           </td><td>2010-01-01 05:00:00</td><td>2010-04-20 08:28:01</td><td>1                  </td></tr>\n",
       "</tbody>\n",
       "</table>\n"
      ],
      "text/latex": [
       "\\begin{tabular}{r|lllllllllll}\n",
       " ID & Age & Sex & Race & Area & SES & smoke & BP & Start & stop & event\\\\\n",
       "\\hline\n",
       "\t 1                   & 63                  & F                   & White               & Rural               & Medium              & 0                   & 65.42547            & 2010-01-01 05:00:00 & 2010-05-06 07:17:03 & 1                  \\\\\n",
       "\t 2                   & 69                  & F                   & White               & Rural               & Low                 & 0                   & 67.71778            & 2010-01-01 05:00:00 & 2010-04-03 20:37:34 & 1                  \\\\\n",
       "\t 3                   & 70                  & F                   & White               & Rural               & Medium              & 0                   & 72.98176            & 2010-01-01 05:00:00 & 2010-03-31 00:39:51 & 1                  \\\\\n",
       "\t 4                   & 62                  & M                   & White               & Rural               & High                & 0                   & 69.30087            & 2010-01-01 05:00:00 & 2010-04-29 11:44:42 & 1                  \\\\\n",
       "\t 5                   & 68                  & M                   & NA                  & Rural               & NA                  & 0                   & 66.78176            & 2010-01-01 05:00:00 & 2010-03-11 14:40:25 & 1                  \\\\\n",
       "\t 6                   & 65                  & M                   & White               & Rural               & Low                 & 0                   & 63.36826            & 2010-01-01 05:00:00 & 2010-04-20 08:28:01 & 1                  \\\\\n",
       "\\end{tabular}\n"
      ],
      "text/markdown": [
       "\n",
       "ID | Age | Sex | Race | Area | SES | smoke | BP | Start | stop | event | \n",
       "|---|---|---|---|---|---|\n",
       "| 1                   | 63                  | F                   | White               | Rural               | Medium              | 0                   | 65.42547            | 2010-01-01 05:00:00 | 2010-05-06 07:17:03 | 1                   | \n",
       "| 2                   | 69                  | F                   | White               | Rural               | Low                 | 0                   | 67.71778            | 2010-01-01 05:00:00 | 2010-04-03 20:37:34 | 1                   | \n",
       "| 3                   | 70                  | F                   | White               | Rural               | Medium              | 0                   | 72.98176            | 2010-01-01 05:00:00 | 2010-03-31 00:39:51 | 1                   | \n",
       "| 4                   | 62                  | M                   | White               | Rural               | High                | 0                   | 69.30087            | 2010-01-01 05:00:00 | 2010-04-29 11:44:42 | 1                   | \n",
       "| 5                   | 68                  | M                   | NA                  | Rural               | NA                  | 0                   | 66.78176            | 2010-01-01 05:00:00 | 2010-03-11 14:40:25 | 1                   | \n",
       "| 6                   | 65                  | M                   | White               | Rural               | Low                 | 0                   | 63.36826            | 2010-01-01 05:00:00 | 2010-04-20 08:28:01 | 1                   | \n",
       "\n",
       "\n"
      ],
      "text/plain": [
       "  ID Age Sex Race  Area  SES    smoke BP       Start              \n",
       "1 1  63  F   White Rural Medium 0     65.42547 2010-01-01 05:00:00\n",
       "2 2  69  F   White Rural Low    0     67.71778 2010-01-01 05:00:00\n",
       "3 3  70  F   White Rural Medium 0     72.98176 2010-01-01 05:00:00\n",
       "4 4  62  M   White Rural High   0     69.30087 2010-01-01 05:00:00\n",
       "5 5  68  M   NA    Rural NA     0     66.78176 2010-01-01 05:00:00\n",
       "6 6  65  M   White Rural Low    0     63.36826 2010-01-01 05:00:00\n",
       "  stop                event\n",
       "1 2010-05-06 07:17:03 1    \n",
       "2 2010-04-03 20:37:34 1    \n",
       "3 2010-03-31 00:39:51 1    \n",
       "4 2010-04-29 11:44:42 1    \n",
       "5 2010-03-11 14:40:25 1    \n",
       "6 2010-04-20 08:28:01 1    "
      ]
     },
     "metadata": {},
     "output_type": "display_data"
    }
   ],
   "source": [
    "df_xlsx <- read.xlsx('../data/R_intro_excel.xlsx', sheetName='Data')\n",
    "head(df_xlsx)"
   ]
  },
  {
   "cell_type": "code",
   "execution_count": 4,
   "metadata": {},
   "outputs": [
    {
     "data": {
      "text/html": [
       "<table>\n",
       "<thead><tr><th scope=col>ID</th><th scope=col>Age</th><th scope=col>Sex</th><th scope=col>Race</th><th scope=col>Area</th><th scope=col>SES</th><th scope=col>smoke</th><th scope=col>BP</th><th scope=col>Start</th><th scope=col>stop</th><th scope=col>event</th></tr></thead>\n",
       "<tbody>\n",
       "\t<tr><td>1                  </td><td>63                 </td><td>F                  </td><td>White              </td><td>Rural              </td><td>Medium             </td><td>0                  </td><td>65.42547           </td><td>2010-01-01 05:00:00</td><td>2010-05-06 07:17:03</td><td>1                  </td></tr>\n",
       "\t<tr><td>2                  </td><td>69                 </td><td>F                  </td><td>White              </td><td>Rural              </td><td>Low                </td><td>0                  </td><td>67.71778           </td><td>2010-01-01 05:00:00</td><td>2010-04-03 20:37:34</td><td>1                  </td></tr>\n",
       "\t<tr><td>3                  </td><td>70                 </td><td>F                  </td><td>White              </td><td>Rural              </td><td>Medium             </td><td>0                  </td><td>72.98176           </td><td>2010-01-01 05:00:00</td><td>2010-03-31 00:39:51</td><td>1                  </td></tr>\n",
       "\t<tr><td>4                  </td><td>62                 </td><td>M                  </td><td>White              </td><td>Rural              </td><td>High               </td><td>0                  </td><td>69.30087           </td><td>2010-01-01 05:00:00</td><td>2010-04-29 11:44:42</td><td>1                  </td></tr>\n",
       "\t<tr><td>5                  </td><td>68                 </td><td>M                  </td><td>NA                 </td><td>Rural              </td><td>NA                 </td><td>0                  </td><td>66.78176           </td><td>2010-01-01 05:00:00</td><td>2010-03-11 14:40:25</td><td>1                  </td></tr>\n",
       "\t<tr><td>6                  </td><td>65                 </td><td>M                  </td><td>White              </td><td>Rural              </td><td>Low                </td><td>0                  </td><td>63.36826           </td><td>2010-01-01 05:00:00</td><td>2010-04-20 08:28:01</td><td>1                  </td></tr>\n",
       "</tbody>\n",
       "</table>\n"
      ],
      "text/latex": [
       "\\begin{tabular}{r|lllllllllll}\n",
       " ID & Age & Sex & Race & Area & SES & smoke & BP & Start & stop & event\\\\\n",
       "\\hline\n",
       "\t 1                   & 63                  & F                   & White               & Rural               & Medium              & 0                   & 65.42547            & 2010-01-01 05:00:00 & 2010-05-06 07:17:03 & 1                  \\\\\n",
       "\t 2                   & 69                  & F                   & White               & Rural               & Low                 & 0                   & 67.71778            & 2010-01-01 05:00:00 & 2010-04-03 20:37:34 & 1                  \\\\\n",
       "\t 3                   & 70                  & F                   & White               & Rural               & Medium              & 0                   & 72.98176            & 2010-01-01 05:00:00 & 2010-03-31 00:39:51 & 1                  \\\\\n",
       "\t 4                   & 62                  & M                   & White               & Rural               & High                & 0                   & 69.30087            & 2010-01-01 05:00:00 & 2010-04-29 11:44:42 & 1                  \\\\\n",
       "\t 5                   & 68                  & M                   & NA                  & Rural               & NA                  & 0                   & 66.78176            & 2010-01-01 05:00:00 & 2010-03-11 14:40:25 & 1                  \\\\\n",
       "\t 6                   & 65                  & M                   & White               & Rural               & Low                 & 0                   & 63.36826            & 2010-01-01 05:00:00 & 2010-04-20 08:28:01 & 1                  \\\\\n",
       "\\end{tabular}\n"
      ],
      "text/markdown": [
       "\n",
       "ID | Age | Sex | Race | Area | SES | smoke | BP | Start | stop | event | \n",
       "|---|---|---|---|---|---|\n",
       "| 1                   | 63                  | F                   | White               | Rural               | Medium              | 0                   | 65.42547            | 2010-01-01 05:00:00 | 2010-05-06 07:17:03 | 1                   | \n",
       "| 2                   | 69                  | F                   | White               | Rural               | Low                 | 0                   | 67.71778            | 2010-01-01 05:00:00 | 2010-04-03 20:37:34 | 1                   | \n",
       "| 3                   | 70                  | F                   | White               | Rural               | Medium              | 0                   | 72.98176            | 2010-01-01 05:00:00 | 2010-03-31 00:39:51 | 1                   | \n",
       "| 4                   | 62                  | M                   | White               | Rural               | High                | 0                   | 69.30087            | 2010-01-01 05:00:00 | 2010-04-29 11:44:42 | 1                   | \n",
       "| 5                   | 68                  | M                   | NA                  | Rural               | NA                  | 0                   | 66.78176            | 2010-01-01 05:00:00 | 2010-03-11 14:40:25 | 1                   | \n",
       "| 6                   | 65                  | M                   | White               | Rural               | Low                 | 0                   | 63.36826            | 2010-01-01 05:00:00 | 2010-04-20 08:28:01 | 1                   | \n",
       "\n",
       "\n"
      ],
      "text/plain": [
       "  ID Age Sex Race  Area  SES    smoke BP       Start              \n",
       "1 1  63  F   White Rural Medium 0     65.42547 2010-01-01 05:00:00\n",
       "2 2  69  F   White Rural Low    0     67.71778 2010-01-01 05:00:00\n",
       "3 3  70  F   White Rural Medium 0     72.98176 2010-01-01 05:00:00\n",
       "4 4  62  M   White Rural High   0     69.30087 2010-01-01 05:00:00\n",
       "5 5  68  M   NA    Rural NA     0     66.78176 2010-01-01 05:00:00\n",
       "6 6  65  M   White Rural Low    0     63.36826 2010-01-01 05:00:00\n",
       "  stop                event\n",
       "1 2010-05-06 07:17:03 1    \n",
       "2 2010-04-03 20:37:34 1    \n",
       "3 2010-03-31 00:39:51 1    \n",
       "4 2010-04-29 11:44:42 1    \n",
       "5 2010-03-11 14:40:25 1    \n",
       "6 2010-04-20 08:28:01 1    "
      ]
     },
     "metadata": {},
     "output_type": "display_data"
    }
   ],
   "source": [
    "df_xlsx <- read_excel('../data/R_intro_excel.xlsx')\n",
    "head(df_xlsx)"
   ]
  },
  {
   "cell_type": "markdown",
   "metadata": {},
   "source": [
    "## Data management\n",
    "### Check dimensions"
   ]
  },
  {
   "cell_type": "code",
   "execution_count": 5,
   "metadata": {},
   "outputs": [
    {
     "data": {
      "text/html": [
       "<ol class=list-inline>\n",
       "\t<li>100</li>\n",
       "\t<li>11</li>\n",
       "</ol>\n"
      ],
      "text/latex": [
       "\\begin{enumerate*}\n",
       "\\item 100\n",
       "\\item 11\n",
       "\\end{enumerate*}\n"
      ],
      "text/markdown": [
       "1. 100\n",
       "2. 11\n",
       "\n",
       "\n"
      ],
      "text/plain": [
       "[1] 100  11"
      ]
     },
     "metadata": {},
     "output_type": "display_data"
    }
   ],
   "source": [
    "dim(df)"
   ]
  },
  {
   "cell_type": "markdown",
   "metadata": {},
   "source": [
    "### Check variable names and types"
   ]
  },
  {
   "cell_type": "code",
   "execution_count": 6,
   "metadata": {},
   "outputs": [
    {
     "data": {
      "text/html": [
       "<table>\n",
       "<tbody>\n",
       "\t<tr><td>ID   </td><td>Age  </td><td>Sex  </td><td>Race </td><td>Area </td><td>SES  </td><td>smoke</td><td>BP   </td><td>Start</td><td>stop </td><td>event</td></tr>\n",
       "</tbody>\n",
       "</table>\n"
      ],
      "text/latex": [
       "\\begin{tabular}{lllllllllll}\n",
       "\t ID    & Age   & Sex   & Race  & Area  & SES   & smoke & BP    & Start & stop  & event\\\\\n",
       "\\end{tabular}\n"
      ],
      "text/markdown": [
       "\n",
       "| ID    | Age   | Sex   | Race  | Area  | SES   | smoke | BP    | Start | stop  | event | \n",
       "\n",
       "\n"
      ],
      "text/plain": [
       "     [,1] [,2] [,3] [,4] [,5] [,6] [,7]  [,8] [,9]  [,10] [,11]\n",
       "[1,] ID   Age  Sex  Race Area SES  smoke BP   Start stop  event"
      ]
     },
     "metadata": {},
     "output_type": "display_data"
    }
   ],
   "source": [
    "t(names(df))"
   ]
  },
  {
   "cell_type": "code",
   "execution_count": 7,
   "metadata": {
    "collapsed": true
   },
   "outputs": [],
   "source": [
    "# change names to lower case\n",
    "names(df) <- tolower(names(df))"
   ]
  },
  {
   "cell_type": "code",
   "execution_count": 8,
   "metadata": {},
   "outputs": [
    {
     "name": "stdout",
     "output_type": "stream",
     "text": [
      "'data.frame':\t100 obs. of  11 variables:\n",
      " $ id   : int  1 2 3 4 5 6 7 8 9 10 ...\n",
      " $ age  : int  63 69 70 62 68 65 65 61 66 NA ...\n",
      " $ sex  : Factor w/ 2 levels \"F\",\"M\": 1 1 1 2 2 2 2 1 2 1 ...\n",
      " $ race : Factor w/ 2 levels \"Other\",\"White\": 2 2 2 2 NA 2 2 1 2 1 ...\n",
      " $ area : Factor w/ 2 levels \"Rural\",\"Urban\": 1 1 1 1 1 1 1 1 1 1 ...\n",
      " $ ses  : Factor w/ 3 levels \"High\",\"Low\",\"Medium\": 3 2 3 1 NA 2 2 3 3 1 ...\n",
      " $ smoke: int  0 0 0 0 0 0 0 1 0 1 ...\n",
      " $ bp   : num  65.4 67.7 73 69.3 66.8 ...\n",
      " $ start: Factor w/ 1 level \"01/01/2010\": 1 1 1 1 1 1 1 1 1 1 ...\n",
      " $ stop : Factor w/ 87 levels \"02/06/2010\",\"02/06/2011\",..: 17 5 86 78 27 51 83 10 64 38 ...\n",
      " $ event: int  1 1 1 1 1 1 1 0 1 1 ...\n"
     ]
    }
   ],
   "source": [
    "str(df)"
   ]
  },
  {
   "cell_type": "code",
   "execution_count": 9,
   "metadata": {
    "collapsed": true
   },
   "outputs": [],
   "source": [
    "# integers to categorical variables\n",
    "df$smoke <- factor(\n",
    "    df$smoke, \n",
    "    levels=c(0, 1, -1),\n",
    "    labels=c('Non-Smoker', 'Smoker', 'Missing')\n",
    ")"
   ]
  },
  {
   "cell_type": "code",
   "execution_count": 10,
   "metadata": {},
   "outputs": [
    {
     "data": {
      "text/html": [
       "<ol class=list-inline>\n",
       "\t<li><time datetime=\"2010-05-06\">2010-05-06</time></li>\n",
       "\t<li><time datetime=\"2010-04-03\">2010-04-03</time></li>\n",
       "\t<li><time datetime=\"2010-03-31\">2010-03-31</time></li>\n",
       "\t<li><time datetime=\"2010-04-29\">2010-04-29</time></li>\n",
       "\t<li><time datetime=\"2010-03-11\">2010-03-11</time></li>\n",
       "\t<li><time datetime=\"2010-04-20\">2010-04-20</time></li>\n",
       "</ol>\n"
      ],
      "text/latex": [
       "\\begin{enumerate*}\n",
       "\\item 2010-05-06\n",
       "\\item 2010-04-03\n",
       "\\item 2010-03-31\n",
       "\\item 2010-04-29\n",
       "\\item 2010-03-11\n",
       "\\item 2010-04-20\n",
       "\\end{enumerate*}\n"
      ],
      "text/markdown": [
       "1. 2010-05-06\n",
       "2. 2010-04-03\n",
       "3. 2010-03-31\n",
       "4. 2010-04-29\n",
       "5. 2010-03-11\n",
       "6. 2010-04-20\n",
       "\n",
       "\n"
      ],
      "text/plain": [
       "[1] \"2010-05-06\" \"2010-04-03\" \"2010-03-31\" \"2010-04-29\" \"2010-03-11\"\n",
       "[6] \"2010-04-20\""
      ]
     },
     "metadata": {},
     "output_type": "display_data"
    },
    {
     "data": {
      "text/html": [
       "<ol class=list-inline>\n",
       "\t<li><time datetime=\"2010-05-06\">2010-05-06</time></li>\n",
       "\t<li><time datetime=\"2010-04-03\">2010-04-03</time></li>\n",
       "\t<li><time datetime=\"2010-03-31\">2010-03-31</time></li>\n",
       "\t<li><time datetime=\"2010-04-29\">2010-04-29</time></li>\n",
       "\t<li><time datetime=\"2010-03-11\">2010-03-11</time></li>\n",
       "\t<li><time datetime=\"2010-04-20\">2010-04-20</time></li>\n",
       "</ol>\n"
      ],
      "text/latex": [
       "\\begin{enumerate*}\n",
       "\\item 2010-05-06\n",
       "\\item 2010-04-03\n",
       "\\item 2010-03-31\n",
       "\\item 2010-04-29\n",
       "\\item 2010-03-11\n",
       "\\item 2010-04-20\n",
       "\\end{enumerate*}\n"
      ],
      "text/markdown": [
       "1. 2010-05-06\n",
       "2. 2010-04-03\n",
       "3. 2010-03-31\n",
       "4. 2010-04-29\n",
       "5. 2010-03-11\n",
       "6. 2010-04-20\n",
       "\n",
       "\n"
      ],
      "text/plain": [
       "[1] \"2010-05-06\" \"2010-04-03\" \"2010-03-31\" \"2010-04-29\" \"2010-03-11\"\n",
       "[6] \"2010-04-20\""
      ]
     },
     "metadata": {},
     "output_type": "display_data"
    },
    {
     "data": {
      "text/plain": [
       "[1] \"2010-05-06 EDT\" \"2010-04-03 EDT\" \"2010-03-31 EDT\" \"2010-04-29 EDT\"\n",
       "[5] \"2010-03-11 EST\" \"2010-04-20 EDT\""
      ]
     },
     "metadata": {},
     "output_type": "display_data"
    },
    {
     "data": {
      "text/plain": [
       "[1] \"2010-05-06 07:17:03 EDT\" \"2010-04-03 20:37:34 EDT\"\n",
       "[3] \"2010-03-31 00:39:51 EDT\" \"2010-04-29 11:44:42 EDT\"\n",
       "[5] \"2010-03-11 14:40:25 EST\" \"2010-04-20 08:28:01 EDT\""
      ]
     },
     "metadata": {},
     "output_type": "display_data"
    }
   ],
   "source": [
    "# managing date types\n",
    "head(as.Date(df$stop, '%d/%m/%Y'))\n",
    "head(as.Date(substr(df_xlsx$stop, 1, 10), '%Y-%m-%d'))\n",
    "\n",
    "head(as.POSIXct(strptime(df$stop, '%d/%m/%Y')))\n",
    "head(as.POSIXct(strptime(df_xlsx$stop, '%Y-%m-%d %H:%M:%OS')))"
   ]
  },
  {
   "cell_type": "code",
   "execution_count": 11,
   "metadata": {
    "collapsed": true
   },
   "outputs": [],
   "source": [
    "# date variables\n",
    "df$start <- as.Date(df$start, '%d/%m/%Y')\n",
    "df$stop <- as.Date(df$stop, '%d/%m/%Y')"
   ]
  },
  {
   "cell_type": "code",
   "execution_count": 12,
   "metadata": {},
   "outputs": [
    {
     "data": {
      "text/plain": [
       "       id              age     sex       race       area        ses    \n",
       " Min.   :  1.00   Min.   :60   F:37   Other:25   Rural:30   High  :30  \n",
       " 1st Qu.: 25.75   1st Qu.:63   M:63   White:72   Urban:70   Low   :24  \n",
       " Median : 50.50   Median :65          NA's : 3              Medium:43  \n",
       " Mean   : 50.50   Mean   :65                                NA's  : 3  \n",
       " 3rd Qu.: 75.25   3rd Qu.:67                                           \n",
       " Max.   :100.00   Max.   :70                                           \n",
       "                  NA's   :3                                            \n",
       "        smoke          bp            start                 stop           \n",
       " Non-Smoker:68   Min.   :57.40   Min.   :2010-01-01   Min.   :2010-01-31  \n",
       " Smoker    :29   1st Qu.:67.61   1st Qu.:2010-01-01   1st Qu.:2010-04-12  \n",
       " Missing   : 3   Median :73.66   Median :2010-01-01   Median :2010-05-11  \n",
       "                 Mean   :74.33   Mean   :2010-01-01   Mean   :2010-09-12  \n",
       "                 3rd Qu.:79.24   3rd Qu.:2010-01-01   3rd Qu.:2010-12-30  \n",
       "                 Max.   :95.56   Max.   :2010-01-01   Max.   :2013-06-19  \n",
       "                 NA's   :2                                                \n",
       "     event     \n",
       " Min.   :0.00  \n",
       " 1st Qu.:1.00  \n",
       " Median :1.00  \n",
       " Mean   :0.78  \n",
       " 3rd Qu.:1.00  \n",
       " Max.   :1.00  \n",
       "               "
      ]
     },
     "metadata": {},
     "output_type": "display_data"
    }
   ],
   "source": [
    "summary(df)"
   ]
  },
  {
   "cell_type": "markdown",
   "metadata": {},
   "source": [
    "### Table categorical variables"
   ]
  },
  {
   "cell_type": "code",
   "execution_count": 13,
   "metadata": {},
   "outputs": [
    {
     "data": {
      "text/html": [
       "<dl class=dl-horizontal>\n",
       "\t<dt>Other</dt>\n",
       "\t\t<dd>25</dd>\n",
       "\t<dt>White</dt>\n",
       "\t\t<dd>72</dd>\n",
       "\t<dt>NA's</dt>\n",
       "\t\t<dd>3</dd>\n",
       "</dl>\n"
      ],
      "text/latex": [
       "\\begin{description*}\n",
       "\\item[Other] 25\n",
       "\\item[White] 72\n",
       "\\item[NA's] 3\n",
       "\\end{description*}\n"
      ],
      "text/markdown": [
       "Other\n",
       ":   25White\n",
       ":   72NA's\n",
       ":   3\n",
       "\n"
      ],
      "text/plain": [
       "Other White  NA's \n",
       "   25    72     3 "
      ]
     },
     "metadata": {},
     "output_type": "display_data"
    }
   ],
   "source": [
    "# race variable\n",
    "y <- summary(df$race)\n",
    "y"
   ]
  },
  {
   "cell_type": "code",
   "execution_count": 14,
   "metadata": {},
   "outputs": [
    {
     "data": {
      "text/html": [
       "<table>\n",
       "<thead><tr><th></th><th scope=col>y</th><th scope=col>proportion_decimal</th></tr></thead>\n",
       "<tbody>\n",
       "\t<tr><th scope=row>Other</th><td>25  </td><td>0.25</td></tr>\n",
       "\t<tr><th scope=row>White</th><td>72  </td><td>0.72</td></tr>\n",
       "\t<tr><th scope=row>NA's</th><td> 3  </td><td>0.03</td></tr>\n",
       "</tbody>\n",
       "</table>\n"
      ],
      "text/latex": [
       "\\begin{tabular}{r|ll}\n",
       "  & y & proportion\\_decimal\\\\\n",
       "\\hline\n",
       "\tOther & 25   & 0.25\\\\\n",
       "\tWhite & 72   & 0.72\\\\\n",
       "\tNA's &  3   & 0.03\\\\\n",
       "\\end{tabular}\n"
      ],
      "text/markdown": [
       "\n",
       "| <!--/--> | y | proportion_decimal | \n",
       "|---|---|---|\n",
       "| Other | 25   | 0.25 | \n",
       "| White | 72   | 0.72 | \n",
       "| NA's |  3   | 0.03 | \n",
       "\n",
       "\n"
      ],
      "text/plain": [
       "      y  proportion_decimal\n",
       "Other 25 0.25              \n",
       "White 72 0.72              \n",
       "NA's   3 0.03              "
      ]
     },
     "metadata": {},
     "output_type": "display_data"
    }
   ],
   "source": [
    "cbind(y, proportion_decimal=prop.table(y))"
   ]
  },
  {
   "cell_type": "code",
   "execution_count": 15,
   "metadata": {},
   "outputs": [
    {
     "data": {
      "text/html": [
       "<table>\n",
       "<thead><tr><th></th><th scope=col>y</th><th scope=col>proportion_percentage</th></tr></thead>\n",
       "<tbody>\n",
       "\t<tr><th scope=row>Other</th><td>25</td><td>25</td></tr>\n",
       "\t<tr><th scope=row>White</th><td>72</td><td>72</td></tr>\n",
       "\t<tr><th scope=row>NA's</th><td> 3</td><td> 3</td></tr>\n",
       "</tbody>\n",
       "</table>\n"
      ],
      "text/latex": [
       "\\begin{tabular}{r|ll}\n",
       "  & y & proportion\\_percentage\\\\\n",
       "\\hline\n",
       "\tOther & 25 & 25\\\\\n",
       "\tWhite & 72 & 72\\\\\n",
       "\tNA's &  3 &  3\\\\\n",
       "\\end{tabular}\n"
      ],
      "text/markdown": [
       "\n",
       "| <!--/--> | y | proportion_percentage | \n",
       "|---|---|---|\n",
       "| Other | 25 | 25 | \n",
       "| White | 72 | 72 | \n",
       "| NA's |  3 |  3 | \n",
       "\n",
       "\n"
      ],
      "text/plain": [
       "      y  proportion_percentage\n",
       "Other 25 25                   \n",
       "White 72 72                   \n",
       "NA's   3  3                   "
      ]
     },
     "metadata": {},
     "output_type": "display_data"
    }
   ],
   "source": [
    "cbind(y, proportion_percentage=prop.table(y)*100)"
   ]
  },
  {
   "cell_type": "code",
   "execution_count": 16,
   "metadata": {},
   "outputs": [
    {
     "data": {
      "text/html": [
       "<ol class=list-inline>\n",
       "\t<li>'Other: 25 (25%)'</li>\n",
       "\t<li>'White: 72 (72%)'</li>\n",
       "\t<li>'NA\\'s: 3 (3%)'</li>\n",
       "</ol>\n"
      ],
      "text/latex": [
       "\\begin{enumerate*}\n",
       "\\item 'Other: 25 (25\\%)'\n",
       "\\item 'White: 72 (72\\%)'\n",
       "\\item 'NA\\textbackslash{}'s: 3 (3\\%)'\n",
       "\\end{enumerate*}\n"
      ],
      "text/markdown": [
       "1. 'Other: 25 (25%)'\n",
       "2. 'White: 72 (72%)'\n",
       "3. 'NA\\'s: 3 (3%)'\n",
       "\n",
       "\n"
      ],
      "text/plain": [
       "[1] \"Other: 25 (25%)\" \"White: 72 (72%)\" \"NA's: 3 (3%)\"   "
      ]
     },
     "metadata": {},
     "output_type": "display_data"
    }
   ],
   "source": [
    "paste(names(y), ': ', y, ' (', prop.table(y)*100, '%)', sep='')"
   ]
  },
  {
   "cell_type": "code",
   "execution_count": 17,
   "metadata": {},
   "outputs": [
    {
     "data": {
      "text/html": [
       "<table>\n",
       "<thead><tr><th></th><th scope=col>sex</th><th scope=col>proportion</th></tr></thead>\n",
       "<tbody>\n",
       "\t<tr><th scope=row>F</th><td>37 </td><td>37%</td></tr>\n",
       "\t<tr><th scope=row>M</th><td>63 </td><td>63%</td></tr>\n",
       "</tbody>\n",
       "</table>\n"
      ],
      "text/latex": [
       "\\begin{tabular}{r|ll}\n",
       "  & sex & proportion\\\\\n",
       "\\hline\n",
       "\tF & 37    & 37\\%\\\\\n",
       "\tM & 63    & 63\\%\\\\\n",
       "\\end{tabular}\n"
      ],
      "text/markdown": [
       "\n",
       "| <!--/--> | sex | proportion | \n",
       "|---|---|\n",
       "| F | 37  | 37% | \n",
       "| M | 63  | 63% | \n",
       "\n",
       "\n"
      ],
      "text/plain": [
       "  sex proportion\n",
       "F 37  37%       \n",
       "M 63  63%       "
      ]
     },
     "metadata": {},
     "output_type": "display_data"
    }
   ],
   "source": [
    "# sex\n",
    "cbind(sex=table(df$sex), \n",
    "      proportion=paste(\n",
    "          prop.table(table(df$sex))*100, '%', sep=''\n",
    "      ))"
   ]
  },
  {
   "cell_type": "code",
   "execution_count": 18,
   "metadata": {},
   "outputs": [
    {
     "data": {
      "text/html": [
       "<table>\n",
       "<thead><tr><th></th><th scope=col>area</th><th scope=col>proportion</th></tr></thead>\n",
       "<tbody>\n",
       "\t<tr><th scope=row>Rural</th><td>30 </td><td>30%</td></tr>\n",
       "\t<tr><th scope=row>Urban</th><td>70 </td><td>70%</td></tr>\n",
       "</tbody>\n",
       "</table>\n"
      ],
      "text/latex": [
       "\\begin{tabular}{r|ll}\n",
       "  & area & proportion\\\\\n",
       "\\hline\n",
       "\tRural & 30    & 30\\%\\\\\n",
       "\tUrban & 70    & 70\\%\\\\\n",
       "\\end{tabular}\n"
      ],
      "text/markdown": [
       "\n",
       "| <!--/--> | area | proportion | \n",
       "|---|---|\n",
       "| Rural | 30  | 30% | \n",
       "| Urban | 70  | 70% | \n",
       "\n",
       "\n"
      ],
      "text/plain": [
       "      area proportion\n",
       "Rural 30   30%       \n",
       "Urban 70   70%       "
      ]
     },
     "metadata": {},
     "output_type": "display_data"
    }
   ],
   "source": [
    "# area\n",
    "cbind(area=table(df$area), \n",
    "      proportion=paste(\n",
    "          prop.table(table(df$area))*100, '%', sep=''\n",
    "      ))"
   ]
  },
  {
   "cell_type": "code",
   "execution_count": 19,
   "metadata": {},
   "outputs": [
    {
     "data": {
      "text/html": [
       "<table>\n",
       "<thead><tr><th></th><th scope=col>smoke</th><th scope=col>proportion</th></tr></thead>\n",
       "<tbody>\n",
       "\t<tr><th scope=row>Non-Smoker</th><td>68 </td><td>68%</td></tr>\n",
       "\t<tr><th scope=row>Smoker</th><td>29 </td><td>29%</td></tr>\n",
       "\t<tr><th scope=row>Missing</th><td>3  </td><td>3% </td></tr>\n",
       "</tbody>\n",
       "</table>\n"
      ],
      "text/latex": [
       "\\begin{tabular}{r|ll}\n",
       "  & smoke & proportion\\\\\n",
       "\\hline\n",
       "\tNon-Smoker & 68    & 68\\%\\\\\n",
       "\tSmoker & 29    & 29\\%\\\\\n",
       "\tMissing & 3     & 3\\% \\\\\n",
       "\\end{tabular}\n"
      ],
      "text/markdown": [
       "\n",
       "| <!--/--> | smoke | proportion | \n",
       "|---|---|---|\n",
       "| Non-Smoker | 68  | 68% | \n",
       "| Smoker | 29  | 29% | \n",
       "| Missing | 3   | 3%  | \n",
       "\n",
       "\n"
      ],
      "text/plain": [
       "           smoke proportion\n",
       "Non-Smoker 68    68%       \n",
       "Smoker     29    29%       \n",
       "Missing    3     3%        "
      ]
     },
     "metadata": {},
     "output_type": "display_data"
    }
   ],
   "source": [
    "# smoke\n",
    "cbind(smoke=table(df$smoke), \n",
    "      proportion=paste(\n",
    "          prop.table(table(df$smoke))*100, '%', sep=''\n",
    "      ))"
   ]
  },
  {
   "cell_type": "code",
   "execution_count": 20,
   "metadata": {},
   "outputs": [
    {
     "data": {
      "text/html": [
       "<table>\n",
       "<thead><tr><th></th><th scope=col>ses</th><th scope=col>proportion</th></tr></thead>\n",
       "<tbody>\n",
       "\t<tr><th scope=row>High</th><td>30               </td><td>30.9278350515464%</td></tr>\n",
       "\t<tr><th scope=row>Low</th><td>24               </td><td>24.7422680412371%</td></tr>\n",
       "\t<tr><th scope=row>Medium</th><td>43               </td><td>44.3298969072165%</td></tr>\n",
       "</tbody>\n",
       "</table>\n"
      ],
      "text/latex": [
       "\\begin{tabular}{r|ll}\n",
       "  & ses & proportion\\\\\n",
       "\\hline\n",
       "\tHigh & 30                  & 30.9278350515464\\%\\\\\n",
       "\tLow & 24                  & 24.7422680412371\\%\\\\\n",
       "\tMedium & 43                  & 44.3298969072165\\%\\\\\n",
       "\\end{tabular}\n"
      ],
      "text/markdown": [
       "\n",
       "| <!--/--> | ses | proportion | \n",
       "|---|---|---|\n",
       "| High | 30                | 30.9278350515464% | \n",
       "| Low | 24                | 24.7422680412371% | \n",
       "| Medium | 43                | 44.3298969072165% | \n",
       "\n",
       "\n"
      ],
      "text/plain": [
       "       ses proportion       \n",
       "High   30  30.9278350515464%\n",
       "Low    24  24.7422680412371%\n",
       "Medium 43  44.3298969072165%"
      ]
     },
     "metadata": {},
     "output_type": "display_data"
    }
   ],
   "source": [
    "# ses\n",
    "cbind(ses=table(df$ses), \n",
    "      proportion=paste(\n",
    "          prop.table(table(df$ses))*100, '%', sep=''\n",
    "      ))"
   ]
  },
  {
   "cell_type": "code",
   "execution_count": 21,
   "metadata": {},
   "outputs": [],
   "source": [
    "df$ses <- factor(df$ses, levels=levels(df$ses)[c(1,3,2)])"
   ]
  },
  {
   "cell_type": "markdown",
   "metadata": {},
   "source": [
    "### Label missing values"
   ]
  },
  {
   "cell_type": "code",
   "execution_count": 22,
   "metadata": {},
   "outputs": [
    {
     "data": {
      "text/html": [
       "<table>\n",
       "<thead><tr><th scope=col>id</th><th scope=col>age</th><th scope=col>sex</th><th scope=col>race</th><th scope=col>area</th><th scope=col>ses</th><th scope=col>smoke</th><th scope=col>bp</th><th scope=col>start</th><th scope=col>stop</th><th scope=col>event</th></tr></thead>\n",
       "<tbody>\n",
       "\t<tr><td>0</td><td>3</td><td>0</td><td>3</td><td>0</td><td>3</td><td>0</td><td>2</td><td>0</td><td>0</td><td>0</td></tr>\n",
       "</tbody>\n",
       "</table>\n"
      ],
      "text/latex": [
       "\\begin{tabular}{lllllllllll}\n",
       " id & age & sex & race & area & ses & smoke & bp & start & stop & event\\\\\n",
       "\\hline\n",
       "\t 0 & 3 & 0 & 3 & 0 & 3 & 0 & 2 & 0 & 0 & 0\\\\\n",
       "\\end{tabular}\n"
      ],
      "text/markdown": [
       "\n",
       "id | age | sex | race | area | ses | smoke | bp | start | stop | event | \n",
       "|---|\n",
       "| 0 | 3 | 0 | 3 | 0 | 3 | 0 | 2 | 0 | 0 | 0 | \n",
       "\n",
       "\n"
      ],
      "text/plain": [
       "     id age sex race area ses smoke bp start stop event\n",
       "[1,] 0  3   0   3    0    3   0     2  0     0    0    "
      ]
     },
     "metadata": {},
     "output_type": "display_data"
    }
   ],
   "source": [
    "# count na\n",
    "count_na <- function(col){\n",
    "    sum(is.na(col))\n",
    "}\n",
    "t(sapply(df, count_na))"
   ]
  },
  {
   "cell_type": "markdown",
   "metadata": {},
   "source": [
    "*Why doesn't the following work?*"
   ]
  },
  {
   "cell_type": "code",
   "execution_count": 23,
   "metadata": {},
   "outputs": [
    {
     "name": "stderr",
     "output_type": "stream",
     "text": [
      "Warning message in `[<-.factor`(`*tmp*`, is.na(df$race), value = 3):\n",
      "“invalid factor level, NA generated”"
     ]
    }
   ],
   "source": [
    "df$race[is.na(df$race)] <- 3"
   ]
  },
  {
   "cell_type": "code",
   "execution_count": 24,
   "metadata": {},
   "outputs": [
    {
     "name": "stdout",
     "output_type": "stream",
     "text": [
      " Factor w/ 2 levels \"Other\",\"White\": 2 2 2 2 NA 2 2 1 2 1 ...\n"
     ]
    }
   ],
   "source": [
    "str(df$race)\n",
    "orig_levels <- levels(df$race)"
   ]
  },
  {
   "cell_type": "markdown",
   "metadata": {},
   "source": [
    "#### Adding an additional factor\n",
    "1. convert the variable to numeric\n",
    "2. add the additional variable as max(existing)+1\n",
    "3. convert back to factor with labels"
   ]
  },
  {
   "cell_type": "code",
   "execution_count": 25,
   "metadata": {},
   "outputs": [
    {
     "data": {
      "text/html": [
       "<dl class=dl-horizontal>\n",
       "\t<dt>Other</dt>\n",
       "\t\t<dd>25</dd>\n",
       "\t<dt>White</dt>\n",
       "\t\t<dd>72</dd>\n",
       "\t<dt>Missing</dt>\n",
       "\t\t<dd>3</dd>\n",
       "</dl>\n"
      ],
      "text/latex": [
       "\\begin{description*}\n",
       "\\item[Other] 25\n",
       "\\item[White] 72\n",
       "\\item[Missing] 3\n",
       "\\end{description*}\n"
      ],
      "text/markdown": [
       "Other\n",
       ":   25White\n",
       ":   72Missing\n",
       ":   3\n",
       "\n"
      ],
      "text/plain": [
       "  Other   White Missing \n",
       "     25      72       3 "
      ]
     },
     "metadata": {},
     "output_type": "display_data"
    }
   ],
   "source": [
    "df$race <- as.numeric(df$race)\n",
    "df$race[is.na(df$race)] <- max(df$race, na.rm=TRUE) + 1\n",
    "df$race <- factor(df$race, labels=c(orig_levels, 'Missing'))\n",
    "summary(df$race)"
   ]
  },
  {
   "cell_type": "code",
   "execution_count": 26,
   "metadata": {},
   "outputs": [
    {
     "data": {
      "text/html": [
       "<dl class=dl-horizontal>\n",
       "\t<dt>High</dt>\n",
       "\t\t<dd>30</dd>\n",
       "\t<dt>Medium</dt>\n",
       "\t\t<dd>43</dd>\n",
       "\t<dt>Low</dt>\n",
       "\t\t<dd>24</dd>\n",
       "\t<dt>Missing</dt>\n",
       "\t\t<dd>3</dd>\n",
       "</dl>\n"
      ],
      "text/latex": [
       "\\begin{description*}\n",
       "\\item[High] 30\n",
       "\\item[Medium] 43\n",
       "\\item[Low] 24\n",
       "\\item[Missing] 3\n",
       "\\end{description*}\n"
      ],
      "text/markdown": [
       "High\n",
       ":   30Medium\n",
       ":   43Low\n",
       ":   24Missing\n",
       ":   3\n",
       "\n"
      ],
      "text/plain": [
       "   High  Medium     Low Missing \n",
       "     30      43      24       3 "
      ]
     },
     "metadata": {},
     "output_type": "display_data"
    }
   ],
   "source": [
    "orig_levels <- levels(df$ses)\n",
    "df$ses <- as.numeric(df$ses)\n",
    "df$ses[is.na(df$ses)] <- max(df$ses, na.rm=TRUE) + 1\n",
    "df$ses <- factor(df$ses, labels=c(orig_levels, 'Missing'))\n",
    "summary(df$ses)"
   ]
  },
  {
   "cell_type": "markdown",
   "metadata": {},
   "source": [
    "### Plot a single categorical variable"
   ]
  },
  {
   "cell_type": "code",
   "execution_count": 27,
   "metadata": {},
   "outputs": [
    {
     "data": {
      "image/png": "[encoded data removed]",
      "text/plain": [
       "plot without title"
      ]
     },
     "metadata": {},
     "output_type": "display_data"
    }
   ],
   "source": [
    "library(repr)\n",
    "# Change plot size to (4 x 3)x1.2\n",
    "options(repr.plot.width=4*1.2, repr.plot.height=3*1.2)\n",
    "\n",
    "ses <- table(df$ses)\n",
    "barplot(ses, names.arg = levels(df$ses))"
   ]
  },
  {
   "cell_type": "code",
   "execution_count": 28,
   "metadata": {},
   "outputs": [
    {
     "data": {
      "image/png": "[encoded data removed]",
      "text/plain": [
       "plot without title"
      ]
     },
     "metadata": {},
     "output_type": "display_data"
    }
   ],
   "source": [
    "barplot(ses, names.arg = levels(df$ses), ylim=c(0, 60))"
   ]
  },
  {
   "cell_type": "code",
   "execution_count": 29,
   "metadata": {},
   "outputs": [
    {
     "data": {
      "image/png": "[encoded data removed]",
      "text/plain": [
       "plot without title"
      ]
     },
     "metadata": {},
     "output_type": "display_data"
    }
   ],
   "source": [
    "barplot(\n",
    "    ses, \n",
    "    names.arg = levels(df$ses), \n",
    "    ylim=c(0, 60),\n",
    "    ylab='Percent (%)', \n",
    "    xlab='Socio economic status',\n",
    "    col=brewer.pal(4, 'Set2'),\n",
    "    border=FALSE\n",
    ")"
   ]
  },
  {
   "cell_type": "code",
   "execution_count": 30,
   "metadata": {},
   "outputs": [
    {
     "data": {
      "image/png": "[encoded data removed]",
      "text/plain": [
       "Plot with title “Figure 3A: Socio economic status of some group in Ontario area with lung cancer incidences”"
      ]
     },
     "metadata": {},
     "output_type": "display_data"
    }
   ],
   "source": [
    "par(family = 'serif')\n",
    "barplot(\n",
    "    ses, \n",
    "    names.arg = levels(df$ses), \n",
    "    ylim=c(0, 60),\n",
    "    ylab='Percent (%)', \n",
    "    xlab='Socio economic status',\n",
    "    col=brewer.pal(4, 'Set2'),\n",
    "    border=FALSE,\n",
    "    main='Figure 3A: Socio economic status of some group in Ontario area with lung cancer incidences'\n",
    ")"
   ]
  },
  {
   "cell_type": "code",
   "execution_count": 31,
   "metadata": {},
   "outputs": [
    {
     "data": {
      "image/png": "[encoded data removed]",
      "text/plain": [
       "Plot with title “Figure 3A: Socio economic status of some group\n",
       "in Ontario area with lung cancer incidences”"
      ]
     },
     "metadata": {},
     "output_type": "display_data"
    }
   ],
   "source": [
    "par(family = 'serif')\n",
    "plt1 = barplot(\n",
    "    ses, \n",
    "    names.arg = levels(df$ses), \n",
    "    ylim=c(0, 60),\n",
    "    ylab='Percent (%)', \n",
    "    xlab='Socio economic status',\n",
    "    col=brewer.pal(4, 'Set2'),\n",
    "    border=FALSE,\n",
    "    main='Figure 3A: Socio economic status of some group\\nin Ontario area with lung cancer incidences'\n",
    ")\n",
    "text(plt1, ses+2, labels=round(ses,0), col='black')"
   ]
  },
  {
   "cell_type": "markdown",
   "metadata": {},
   "source": [
    "### Check bivariate associations"
   ]
  },
  {
   "cell_type": "code",
   "execution_count": 32,
   "metadata": {},
   "outputs": [
    {
     "data": {
      "text/plain": [
       "   \n",
       "    Non-Smoker Smoker Missing\n",
       "  F       0.28   0.07    0.02\n",
       "  M       0.40   0.22    0.01"
      ]
     },
     "metadata": {},
     "output_type": "display_data"
    }
   ],
   "source": [
    "sex_smoke <- table(df$sex, df$smoke)\n",
    "prop.table(sex_smoke)"
   ]
  },
  {
   "cell_type": "code",
   "execution_count": 33,
   "metadata": {},
   "outputs": [
    {
     "data": {
      "text/plain": [
       "   \n",
       "    Non-Smoker     Smoker    Missing\n",
       "  F 0.75675676 0.18918919 0.05405405\n",
       "  M 0.63492063 0.34920635 0.01587302"
      ]
     },
     "metadata": {},
     "output_type": "display_data"
    }
   ],
   "source": [
    "prop.table(sex_smoke, margin=1)"
   ]
  },
  {
   "cell_type": "code",
   "execution_count": 34,
   "metadata": {},
   "outputs": [
    {
     "data": {
      "text/plain": [
       "   \n",
       "    Non-Smoker Smoker Missing\n",
       "  F      41.18  24.14   66.67\n",
       "  M      58.82  75.86   33.33"
      ]
     },
     "metadata": {},
     "output_type": "display_data"
    }
   ],
   "source": [
    "round(prop.table(sex_smoke, margin=2)*100, 2)"
   ]
  },
  {
   "cell_type": "code",
   "execution_count": 35,
   "metadata": {},
   "outputs": [
    {
     "name": "stderr",
     "output_type": "stream",
     "text": [
      "Warning message in chisq.test(df$sex, df$smoke):\n",
      "“Chi-squared approximation may be incorrect”"
     ]
    },
    {
     "data": {
      "text/plain": [
       "\n",
       "\tPearson's Chi-squared test\n",
       "\n",
       "data:  df$sex and df$smoke\n",
       "X-squared = 3.6997, df = 2, p-value = 0.1573\n"
      ]
     },
     "metadata": {},
     "output_type": "display_data"
    }
   ],
   "source": [
    "chisq.test(df$sex, df$smoke)"
   ]
  },
  {
   "cell_type": "code",
   "execution_count": 36,
   "metadata": {},
   "outputs": [
    {
     "data": {
      "text/plain": [
       "\n",
       "\tPearson's Chi-squared test with Yates' continuity correction\n",
       "\n",
       "data:  df$sex[df$smoke != \"Missing\"] and df$smoke[df$smoke != \"Missing\"]\n",
       "X-squared = 1.8736, df = 1, p-value = 0.1711\n"
      ]
     },
     "metadata": {},
     "output_type": "display_data"
    }
   ],
   "source": [
    "# small cell size (smoke = 'Missing') causes the warning\n",
    "chisq.test(\n",
    "    df$sex[df$smoke!='Missing'], \n",
    "    df$smoke[df$smoke!='Missing']\n",
    ")"
   ]
  },
  {
   "cell_type": "markdown",
   "metadata": {},
   "source": [
    "### Plot bivariate associations"
   ]
  },
  {
   "cell_type": "code",
   "execution_count": 37,
   "metadata": {},
   "outputs": [
    {
     "data": {
      "image/png": "[encoded data removed]",
      "text/plain": [
       "Plot with title “Figure 3B: Socio economic status of some group\n",
       "in Ontario area with lung cancer incidences”"
      ]
     },
     "metadata": {},
     "output_type": "display_data"
    }
   ],
   "source": [
    "par(family = 'serif')\n",
    "ses_smoke <- prop.table(\n",
    "    table(df$smoke, df$ses), \n",
    "    2\n",
    ")\n",
    "# stacked\n",
    "barplot(\n",
    "    ses_smoke*100, \n",
    "    names.arg = levels(df$ses),\n",
    "    ylim=c(0, 100), \n",
    "    xlim=c(0, 6),\n",
    "    ylab='Percent (%)',\n",
    "    xlab='Socio economic status',\n",
    "    col=brewer.pal(3, 'Set2'),\n",
    "    border=FALSE,\n",
    "    main=paste('Figure 3B: Socio economic status of some group',\n",
    "               '\\nin Ontario area with lung cancer incidences',\n",
    "               sep='')\n",
    ")\n",
    "legend(\n",
    "    5, 50, \n",
    "    levels(df$smoke), \n",
    "    fill=brewer.pal(3, 'Set2'), \n",
    "    border=FALSE,\n",
    "    bg='white',\n",
    "    bty='n',\n",
    "    xjust=0,\n",
    "    y.intersp=2.5,\n",
    "    cex=0.8,\n",
    "    xpd=TRUE\n",
    ")"
   ]
  },
  {
   "cell_type": "code",
   "execution_count": 38,
   "metadata": {},
   "outputs": [
    {
     "data": {
      "image/png": "[encoded data removed]",
      "text/plain": [
       "Plot with title “Figure 3B: Socio economic status of some group\n",
       "in Ontario area with lung cancer incidences”"
      ]
     },
     "metadata": {},
     "output_type": "display_data"
    }
   ],
   "source": [
    "# side by side\n",
    "par(family = 'serif')\n",
    "barplot(\n",
    "    ses_smoke*100, \n",
    "    names.arg = levels(df$ses),\n",
    "    ylim=c(0, 99), \n",
    "    ylab='Percent (%)',\n",
    "    xlab='',\n",
    "    col=brewer.pal(3, 'Set2'),\n",
    "    border=FALSE,\n",
    "    main=paste('Figure 3B: Socio economic status of some group',\n",
    "               '\\nin Ontario area with lung cancer incidences',\n",
    "               sep=''),\n",
    "    beside=TRUE\n",
    ")\n",
    "legend(\n",
    "    'top',\n",
    "    levels(df$smoke), \n",
    "    fill=brewer.pal(3, 'Set2'), \n",
    "    border=FALSE,\n",
    "    bg='white',\n",
    "    bty='n',\n",
    "    horiz=TRUE,\n",
    "    text.width=3,\n",
    "    xjust=0.5,\n",
    "    y.intersp=1.5,\n",
    "    cex=0.8,\n",
    "    xpd=TRUE\n",
    ")"
   ]
  },
  {
   "cell_type": "markdown",
   "metadata": {},
   "source": [
    "### Check continuous variables"
   ]
  },
  {
   "cell_type": "code",
   "execution_count": 39,
   "metadata": {},
   "outputs": [
    {
     "data": {
      "text/html": [
       "&lt;NA&gt;"
      ],
      "text/latex": [
       "<NA>"
      ],
      "text/markdown": [
       "&lt;NA&gt;"
      ],
      "text/plain": [
       "[1] NA"
      ]
     },
     "metadata": {},
     "output_type": "display_data"
    }
   ],
   "source": [
    "mean(df$age)"
   ]
  },
  {
   "cell_type": "code",
   "execution_count": 40,
   "metadata": {},
   "outputs": [
    {
     "data": {
      "text/html": [
       "65"
      ],
      "text/latex": [
       "65"
      ],
      "text/markdown": [
       "65"
      ],
      "text/plain": [
       "[1] 65"
      ]
     },
     "metadata": {},
     "output_type": "display_data"
    }
   ],
   "source": [
    "mean(df$age, na.rm=TRUE)"
   ]
  },
  {
   "cell_type": "code",
   "execution_count": 41,
   "metadata": {},
   "outputs": [
    {
     "data": {
      "text/html": [
       "2.93328598446634"
      ],
      "text/latex": [
       "2.93328598446634"
      ],
      "text/markdown": [
       "2.93328598446634"
      ],
      "text/plain": [
       "[1] 2.933286"
      ]
     },
     "metadata": {},
     "output_type": "display_data"
    }
   ],
   "source": [
    "sd(df$age, na.rm=TRUE)"
   ]
  },
  {
   "cell_type": "code",
   "execution_count": 42,
   "metadata": {},
   "outputs": [
    {
     "data": {
      "text/plain": [
       "   Min. 1st Qu.  Median    Mean 3rd Qu.    Max.    NA's \n",
       "     60      63      65      65      67      70       3 "
      ]
     },
     "metadata": {},
     "output_type": "display_data"
    }
   ],
   "source": [
    "summary(df$age)"
   ]
  },
  {
   "cell_type": "code",
   "execution_count": 43,
   "metadata": {},
   "outputs": [
    {
     "data": {
      "image/png": "[encoded data removed]",
      "text/plain": [
       "Plot with title “Boxplot of age”"
      ]
     },
     "metadata": {},
     "output_type": "display_data"
    }
   ],
   "source": [
    "boxplot(\n",
    "    df$age,\n",
    "    main='Boxplot of age'\n",
    ")"
   ]
  },
  {
   "cell_type": "code",
   "execution_count": 44,
   "metadata": {},
   "outputs": [
    {
     "data": {
      "image/png": "[encoded data removed]",
      "text/plain": [
       "Plot with title “Histogram of age”"
      ]
     },
     "metadata": {},
     "output_type": "display_data"
    }
   ],
   "source": [
    "hist(\n",
    "    df$age,\n",
    "    main='Histogram of age',\n",
    "    col=brewer.pal(3, 'Set2')[1],\n",
    "    border='white',\n",
    "    xlab='age'\n",
    ")"
   ]
  },
  {
   "cell_type": "code",
   "execution_count": 45,
   "metadata": {},
   "outputs": [
    {
     "data": {
      "image/png": "[encoded data removed]",
      "text/plain": [
       "Plot with title “Histogram of age by quantile”"
      ]
     },
     "metadata": {},
     "output_type": "display_data"
    }
   ],
   "source": [
    "df$age[is.na(df$age)] <- 99\n",
    "df$age.grp <- cut(\n",
    "    df$age, \n",
    "    quantile(df$age, prob=seq(0,1,0.2), na.rm=TRUE),\n",
    "    labels=FALSE\n",
    ")\n",
    "\n",
    "barplot(\n",
    "    table(df$age.grp),\n",
    "    names.arg=paste(seq(0,0.8,0.2), seq(0.2,1,0.2), sep='-'),\n",
    "    xlab='Quantile',\n",
    "    main='Histogram of age by quantile',\n",
    "    col=brewer.pal(3, 'Set2')[1],\n",
    "    border='white'\n",
    ")"
   ]
  },
  {
   "cell_type": "code",
   "execution_count": 46,
   "metadata": {},
   "outputs": [
    {
     "data": {
      "image/png": "[encoded data removed]",
      "text/plain": [
       "Plot with title “Histogram of age by cutom group”"
      ]
     },
     "metadata": {},
     "output_type": "display_data"
    }
   ],
   "source": [
    "df$age.grp <- cut(\n",
    "    df$age,\n",
    "    c(59, 65, 71, 99),\n",
    "    labels=c('60-65', '65-70', 'Missing')\n",
    ")\n",
    "\n",
    "barplot(\n",
    "    table(df$age.grp),\n",
    "    main='Histogram of age by cutom group',\n",
    "    col=brewer.pal(3, 'Set2')[1],\n",
    "    border='white'\n",
    ")"
   ]
  },
  {
   "cell_type": "markdown",
   "metadata": {},
   "source": [
    "### Check continuous variable with categorical variables"
   ]
  },
  {
   "cell_type": "code",
   "execution_count": 47,
   "metadata": {},
   "outputs": [
    {
     "data": {
      "text/html": [
       "74.330869555628"
      ],
      "text/latex": [
       "74.330869555628"
      ],
      "text/markdown": [
       "74.330869555628"
      ],
      "text/plain": [
       "[1] 74.33087"
      ]
     },
     "metadata": {},
     "output_type": "display_data"
    },
    {
     "data": {
      "text/html": [
       "8.80763856552136"
      ],
      "text/latex": [
       "8.80763856552136"
      ],
      "text/markdown": [
       "8.80763856552136"
      ],
      "text/plain": [
       "[1] 8.807639"
      ]
     },
     "metadata": {},
     "output_type": "display_data"
    }
   ],
   "source": [
    "mean(df$bp, na.rm=TRUE)\n",
    "sd(df$bp, na.rm=TRUE)"
   ]
  },
  {
   "cell_type": "code",
   "execution_count": 48,
   "metadata": {},
   "outputs": [
    {
     "data": {
      "text/plain": [
       "   Min. 1st Qu.  Median    Mean 3rd Qu.    Max.    NA's \n",
       "  57.40   67.61   73.66   74.33   79.24   95.56       2 "
      ]
     },
     "metadata": {},
     "output_type": "display_data"
    }
   ],
   "source": [
    "summary(df$bp)"
   ]
  },
  {
   "cell_type": "code",
   "execution_count": 49,
   "metadata": {},
   "outputs": [
    {
     "data": {
      "text/html": [
       "<ol class=list-inline>\n",
       "\t<li>70</li>\n",
       "\t<li>90</li>\n",
       "</ol>\n"
      ],
      "text/latex": [
       "\\begin{enumerate*}\n",
       "\\item 70\n",
       "\\item 90\n",
       "\\end{enumerate*}\n"
      ],
      "text/markdown": [
       "1. 70\n",
       "2. 90\n",
       "\n",
       "\n"
      ],
      "text/plain": [
       "[1] 70 90"
      ]
     },
     "metadata": {},
     "output_type": "display_data"
    }
   ],
   "source": [
    "which(is.na(df$bp))"
   ]
  },
  {
   "cell_type": "code",
   "execution_count": 50,
   "metadata": {},
   "outputs": [
    {
     "data": {
      "text/html": [
       "<table>\n",
       "<thead><tr><th></th><th scope=col>id</th><th scope=col>age</th><th scope=col>sex</th><th scope=col>race</th><th scope=col>area</th><th scope=col>ses</th><th scope=col>smoke</th><th scope=col>bp</th><th scope=col>start</th><th scope=col>stop</th><th scope=col>event</th><th scope=col>age.grp</th></tr></thead>\n",
       "<tbody>\n",
       "\t<tr><th scope=row>70</th><td>70        </td><td>61        </td><td>M         </td><td>White     </td><td>Urban     </td><td>Medium    </td><td>Non-Smoker</td><td>NA        </td><td>2010-01-01</td><td>2010-07-10</td><td>0         </td><td>60-65     </td></tr>\n",
       "\t<tr><th scope=row>90</th><td>90        </td><td>61        </td><td>F         </td><td>White     </td><td>Urban     </td><td>High      </td><td>Non-Smoker</td><td>NA        </td><td>2010-01-01</td><td>2010-02-18</td><td>1         </td><td>60-65     </td></tr>\n",
       "</tbody>\n",
       "</table>\n"
      ],
      "text/latex": [
       "\\begin{tabular}{r|llllllllllll}\n",
       "  & id & age & sex & race & area & ses & smoke & bp & start & stop & event & age.grp\\\\\n",
       "\\hline\n",
       "\t70 & 70         & 61         & M          & White      & Urban      & Medium     & Non-Smoker & NA         & 2010-01-01 & 2010-07-10 & 0          & 60-65     \\\\\n",
       "\t90 & 90         & 61         & F          & White      & Urban      & High       & Non-Smoker & NA         & 2010-01-01 & 2010-02-18 & 1          & 60-65     \\\\\n",
       "\\end{tabular}\n"
      ],
      "text/markdown": [
       "\n",
       "| <!--/--> | id | age | sex | race | area | ses | smoke | bp | start | stop | event | age.grp | \n",
       "|---|---|\n",
       "| 70 | 70         | 61         | M          | White      | Urban      | Medium     | Non-Smoker | NA         | 2010-01-01 | 2010-07-10 | 0          | 60-65      | \n",
       "| 90 | 90         | 61         | F          | White      | Urban      | High       | Non-Smoker | NA         | 2010-01-01 | 2010-02-18 | 1          | 60-65      | \n",
       "\n",
       "\n"
      ],
      "text/plain": [
       "   id age sex race  area  ses    smoke      bp start      stop       event\n",
       "70 70 61  M   White Urban Medium Non-Smoker NA 2010-01-01 2010-07-10 0    \n",
       "90 90 61  F   White Urban High   Non-Smoker NA 2010-01-01 2010-02-18 1    \n",
       "   age.grp\n",
       "70 60-65  \n",
       "90 60-65  "
      ]
     },
     "metadata": {},
     "output_type": "display_data"
    }
   ],
   "source": [
    "df[is.na(df$bp), ]"
   ]
  },
  {
   "cell_type": "code",
   "execution_count": 51,
   "metadata": {},
   "outputs": [
    {
     "data": {
      "image/png": "[encoded data removed]",
      "text/plain": [
       "Plot with title “Boxplot of blood pressure”"
      ]
     },
     "metadata": {},
     "output_type": "display_data"
    }
   ],
   "source": [
    "boxplot(\n",
    "    df$bp,\n",
    "    main='Boxplot of blood pressure'\n",
    ")"
   ]
  },
  {
   "cell_type": "code",
   "execution_count": 52,
   "metadata": {},
   "outputs": [
    {
     "data": {
      "image/png": "[encoded data removed]",
      "text/plain": [
       "Plot with title “Boxplot of blood pressure by sex”"
      ]
     },
     "metadata": {},
     "output_type": "display_data"
    }
   ],
   "source": [
    "boxplot(\n",
    "    df$bp~df$sex,\n",
    "    main='Boxplot of blood pressure by sex'\n",
    ")"
   ]
  },
  {
   "cell_type": "code",
   "execution_count": 53,
   "metadata": {},
   "outputs": [
    {
     "data": {
      "image/png": "[encoded data removed]",
      "text/plain": [
       "Plot with title “Boxplot of blood pressure by sex and smoke”"
      ]
     },
     "metadata": {},
     "output_type": "display_data"
    }
   ],
   "source": [
    "boxplot(\n",
    "    df$bp~df$sex+df$smoke,\n",
    "    main='Boxplot of blood pressure by sex and smoke'\n",
    ")"
   ]
  },
  {
   "cell_type": "code",
   "execution_count": 54,
   "metadata": {},
   "outputs": [
    {
     "data": {
      "image/png": "[encoded data removed]",
      "text/plain": [
       "Plot with title “Histogram of blood pressure”"
      ]
     },
     "metadata": {},
     "output_type": "display_data"
    }
   ],
   "source": [
    "hist(\n",
    "    df$bp,\n",
    "    main='Histogram of blood pressure',\n",
    "    col=brewer.pal(3, 'Set2')[2],\n",
    "    border='white',\n",
    "    xlab='blood pressure'\n",
    ")"
   ]
  },
  {
   "cell_type": "code",
   "execution_count": 55,
   "metadata": {},
   "outputs": [
    {
     "data": {
      "text/html": [
       "<table>\n",
       "<thead><tr><th scope=col>ses</th><th scope=col>smoke</th><th scope=col>bp_mean</th></tr></thead>\n",
       "<tbody>\n",
       "\t<tr><td>High      </td><td>Non-Smoker</td><td>74.55318  </td></tr>\n",
       "\t<tr><td>Medium    </td><td>Non-Smoker</td><td>69.46431  </td></tr>\n",
       "\t<tr><td>Low       </td><td>Non-Smoker</td><td>64.46335  </td></tr>\n",
       "\t<tr><td>Missing   </td><td>Non-Smoker</td><td>69.58598  </td></tr>\n",
       "\t<tr><td>High      </td><td>Smoker    </td><td>90.40955  </td></tr>\n",
       "\t<tr><td>Medium    </td><td>Smoker    </td><td>82.09627  </td></tr>\n",
       "\t<tr><td>Low       </td><td>Smoker    </td><td>78.94949  </td></tr>\n",
       "\t<tr><td>Missing   </td><td>Smoker    </td><td>83.44854  </td></tr>\n",
       "\t<tr><td>High      </td><td>Missing   </td><td>91.68280  </td></tr>\n",
       "\t<tr><td>Low       </td><td>Missing   </td><td>73.76216  </td></tr>\n",
       "</tbody>\n",
       "</table>\n"
      ],
      "text/latex": [
       "\\begin{tabular}{r|lll}\n",
       " ses & smoke & bp\\_mean\\\\\n",
       "\\hline\n",
       "\t High       & Non-Smoker & 74.55318  \\\\\n",
       "\t Medium     & Non-Smoker & 69.46431  \\\\\n",
       "\t Low        & Non-Smoker & 64.46335  \\\\\n",
       "\t Missing    & Non-Smoker & 69.58598  \\\\\n",
       "\t High       & Smoker     & 90.40955  \\\\\n",
       "\t Medium     & Smoker     & 82.09627  \\\\\n",
       "\t Low        & Smoker     & 78.94949  \\\\\n",
       "\t Missing    & Smoker     & 83.44854  \\\\\n",
       "\t High       & Missing    & 91.68280  \\\\\n",
       "\t Low        & Missing    & 73.76216  \\\\\n",
       "\\end{tabular}\n"
      ],
      "text/markdown": [
       "\n",
       "ses | smoke | bp_mean | \n",
       "|---|---|---|---|---|---|---|---|---|---|\n",
       "| High       | Non-Smoker | 74.55318   | \n",
       "| Medium     | Non-Smoker | 69.46431   | \n",
       "| Low        | Non-Smoker | 64.46335   | \n",
       "| Missing    | Non-Smoker | 69.58598   | \n",
       "| High       | Smoker     | 90.40955   | \n",
       "| Medium     | Smoker     | 82.09627   | \n",
       "| Low        | Smoker     | 78.94949   | \n",
       "| Missing    | Smoker     | 83.44854   | \n",
       "| High       | Missing    | 91.68280   | \n",
       "| Low        | Missing    | 73.76216   | \n",
       "\n",
       "\n"
      ],
      "text/plain": [
       "   ses     smoke      bp_mean \n",
       "1  High    Non-Smoker 74.55318\n",
       "2  Medium  Non-Smoker 69.46431\n",
       "3  Low     Non-Smoker 64.46335\n",
       "4  Missing Non-Smoker 69.58598\n",
       "5  High    Smoker     90.40955\n",
       "6  Medium  Smoker     82.09627\n",
       "7  Low     Smoker     78.94949\n",
       "8  Missing Smoker     83.44854\n",
       "9  High    Missing    91.68280\n",
       "10 Low     Missing    73.76216"
      ]
     },
     "metadata": {},
     "output_type": "display_data"
    }
   ],
   "source": [
    "bp_agg <- aggregate(\n",
    "    df$bp, \n",
    "    by=list(df$ses, df$smoke),\n",
    "    mean,\n",
    "    na.rm=TRUE\n",
    ")\n",
    "colnames(bp_agg) <- c('ses' ,'smoke', 'bp_mean')\n",
    "bp_agg"
   ]
  },
  {
   "cell_type": "code",
   "execution_count": 56,
   "metadata": {},
   "outputs": [
    {
     "data": {
      "text/html": [
       "<table>\n",
       "<thead><tr><th scope=col>ses</th><th scope=col>smoke</th><th scope=col>bp_mean</th><th scope=col>bp_sd</th></tr></thead>\n",
       "<tbody>\n",
       "\t<tr><td>High      </td><td>Non-Smoker</td><td>74.55318  </td><td>4.055324  </td></tr>\n",
       "\t<tr><td>High      </td><td>Smoker    </td><td>90.40955  </td><td>3.204781  </td></tr>\n",
       "\t<tr><td>High      </td><td>Missing   </td><td>91.68280  </td><td>5.489739  </td></tr>\n",
       "\t<tr><td>Medium    </td><td>Non-Smoker</td><td>69.46431  </td><td>6.222414  </td></tr>\n",
       "\t<tr><td>Medium    </td><td>Smoker    </td><td>82.09627  </td><td>6.518982  </td></tr>\n",
       "\t<tr><td>Low       </td><td>Non-Smoker</td><td>64.46335  </td><td>3.114624  </td></tr>\n",
       "\t<tr><td>Low       </td><td>Smoker    </td><td>78.94949  </td><td>4.664503  </td></tr>\n",
       "\t<tr><td>Low       </td><td>Missing   </td><td>73.76216  </td><td>      NA  </td></tr>\n",
       "\t<tr><td>Missing   </td><td>Non-Smoker</td><td>69.58598  </td><td>3.965774  </td></tr>\n",
       "\t<tr><td>Missing   </td><td>Smoker    </td><td>83.44854  </td><td>      NA  </td></tr>\n",
       "</tbody>\n",
       "</table>\n"
      ],
      "text/latex": [
       "\\begin{tabular}{r|llll}\n",
       " ses & smoke & bp\\_mean & bp\\_sd\\\\\n",
       "\\hline\n",
       "\t High       & Non-Smoker & 74.55318   & 4.055324  \\\\\n",
       "\t High       & Smoker     & 90.40955   & 3.204781  \\\\\n",
       "\t High       & Missing    & 91.68280   & 5.489739  \\\\\n",
       "\t Medium     & Non-Smoker & 69.46431   & 6.222414  \\\\\n",
       "\t Medium     & Smoker     & 82.09627   & 6.518982  \\\\\n",
       "\t Low        & Non-Smoker & 64.46335   & 3.114624  \\\\\n",
       "\t Low        & Smoker     & 78.94949   & 4.664503  \\\\\n",
       "\t Low        & Missing    & 73.76216   &       NA  \\\\\n",
       "\t Missing    & Non-Smoker & 69.58598   & 3.965774  \\\\\n",
       "\t Missing    & Smoker     & 83.44854   &       NA  \\\\\n",
       "\\end{tabular}\n"
      ],
      "text/markdown": [
       "\n",
       "ses | smoke | bp_mean | bp_sd | \n",
       "|---|---|---|---|---|---|---|---|---|---|\n",
       "| High       | Non-Smoker | 74.55318   | 4.055324   | \n",
       "| High       | Smoker     | 90.40955   | 3.204781   | \n",
       "| High       | Missing    | 91.68280   | 5.489739   | \n",
       "| Medium     | Non-Smoker | 69.46431   | 6.222414   | \n",
       "| Medium     | Smoker     | 82.09627   | 6.518982   | \n",
       "| Low        | Non-Smoker | 64.46335   | 3.114624   | \n",
       "| Low        | Smoker     | 78.94949   | 4.664503   | \n",
       "| Low        | Missing    | 73.76216   |       NA   | \n",
       "| Missing    | Non-Smoker | 69.58598   | 3.965774   | \n",
       "| Missing    | Smoker     | 83.44854   |       NA   | \n",
       "\n",
       "\n"
      ],
      "text/plain": [
       "   ses     smoke      bp_mean  bp_sd   \n",
       "1  High    Non-Smoker 74.55318 4.055324\n",
       "2  High    Smoker     90.40955 3.204781\n",
       "3  High    Missing    91.68280 5.489739\n",
       "4  Medium  Non-Smoker 69.46431 6.222414\n",
       "5  Medium  Smoker     82.09627 6.518982\n",
       "6  Low     Non-Smoker 64.46335 3.114624\n",
       "7  Low     Smoker     78.94949 4.664503\n",
       "8  Low     Missing    73.76216       NA\n",
       "9  Missing Non-Smoker 69.58598 3.965774\n",
       "10 Missing Smoker     83.44854       NA"
      ]
     },
     "metadata": {},
     "output_type": "display_data"
    }
   ],
   "source": [
    "df %>%\n",
    "    group_by(ses, smoke) %>%\n",
    "    summarize(\n",
    "        bp_mean = mean(bp, na.rm=TRUE),\n",
    "        bp_sd = sd(bp, na.rm=TRUE)\n",
    "    )"
   ]
  },
  {
   "cell_type": "code",
   "execution_count": 57,
   "metadata": {},
   "outputs": [
    {
     "data": {
      "text/html": [
       "<table>\n",
       "<thead><tr><th scope=col>ses</th><th scope=col>smoke</th><th scope=col>bp_mean</th><th scope=col>bp_sd</th></tr></thead>\n",
       "<tbody>\n",
       "\t<tr><td>High    </td><td>Smoker  </td><td>90.40955</td><td>3.204781</td></tr>\n",
       "\t<tr><td>Medium  </td><td>Smoker  </td><td>82.09627</td><td>6.518982</td></tr>\n",
       "\t<tr><td>Low     </td><td>Smoker  </td><td>78.94949</td><td>4.664503</td></tr>\n",
       "\t<tr><td>Missing </td><td>Smoker  </td><td>83.44854</td><td>      NA</td></tr>\n",
       "</tbody>\n",
       "</table>\n"
      ],
      "text/latex": [
       "\\begin{tabular}{r|llll}\n",
       " ses & smoke & bp\\_mean & bp\\_sd\\\\\n",
       "\\hline\n",
       "\t High     & Smoker   & 90.40955 & 3.204781\\\\\n",
       "\t Medium   & Smoker   & 82.09627 & 6.518982\\\\\n",
       "\t Low      & Smoker   & 78.94949 & 4.664503\\\\\n",
       "\t Missing  & Smoker   & 83.44854 &       NA\\\\\n",
       "\\end{tabular}\n"
      ],
      "text/markdown": [
       "\n",
       "ses | smoke | bp_mean | bp_sd | \n",
       "|---|---|---|---|\n",
       "| High     | Smoker   | 90.40955 | 3.204781 | \n",
       "| Medium   | Smoker   | 82.09627 | 6.518982 | \n",
       "| Low      | Smoker   | 78.94949 | 4.664503 | \n",
       "| Missing  | Smoker   | 83.44854 |       NA | \n",
       "\n",
       "\n"
      ],
      "text/plain": [
       "  ses     smoke  bp_mean  bp_sd   \n",
       "1 High    Smoker 90.40955 3.204781\n",
       "2 Medium  Smoker 82.09627 6.518982\n",
       "3 Low     Smoker 78.94949 4.664503\n",
       "4 Missing Smoker 83.44854       NA"
      ]
     },
     "metadata": {},
     "output_type": "display_data"
    }
   ],
   "source": [
    "bp_agg <- df %>%\n",
    "    group_by(ses, smoke) %>%\n",
    "    summarize(\n",
    "        bp_mean = mean(bp, na.rm=TRUE),\n",
    "        bp_sd = sd(bp, na.rm=TRUE)\n",
    "    )\n",
    "bp_agg %>%\n",
    "    filter(smoke == 'Smoker')"
   ]
  },
  {
   "cell_type": "code",
   "execution_count": 58,
   "metadata": {},
   "outputs": [
    {
     "data": {
      "text/plain": [
       "          bp_agg$smoke\n",
       "bp_agg$ses Non-Smoker Smoker Missing\n",
       "   High         74.55  90.41   91.68\n",
       "   Medium       69.46  82.10    0.00\n",
       "   Low          64.46  78.95   73.76\n",
       "   Missing      69.59  83.45    0.00"
      ]
     },
     "metadata": {},
     "output_type": "display_data"
    }
   ],
   "source": [
    "round(xtabs(bp_agg$bp_mean ~ bp_agg$ses + bp_agg$smoke), 2)"
   ]
  },
  {
   "cell_type": "markdown",
   "metadata": {},
   "source": [
    "## Data analysis"
   ]
  },
  {
   "cell_type": "markdown",
   "metadata": {},
   "source": [
    "### Linear regression prediction and confidence intervals"
   ]
  },
  {
   "cell_type": "code",
   "execution_count": 59,
   "metadata": {},
   "outputs": [
    {
     "data": {
      "text/plain": [
       "\n",
       "Call:\n",
       "lm(formula = bp ~ smoke + ses + age.grp + sex + race + area, \n",
       "    data = df)\n",
       "\n",
       "Residuals:\n",
       "    Min      1Q  Median      3Q     Max \n",
       "-8.6941 -1.5979 -0.0647  1.8284  7.1352 \n",
       "\n",
       "Coefficients: (1 not defined because of singularities)\n",
       "               Estimate Std. Error t value Pr(>|t|)    \n",
       "(Intercept)     71.8857     1.6939  42.439  < 2e-16 ***\n",
       "smokeSmoker      9.4007     1.6376   5.741 1.35e-07 ***\n",
       "smokeMissing    10.1624     2.3832   4.264 5.08e-05 ***\n",
       "sesMedium       -5.0753     0.8666  -5.857 8.22e-08 ***\n",
       "sesLow          -8.6059     1.0846  -7.935 6.71e-12 ***\n",
       "sesMissing      -9.1648     2.4054  -3.810 0.000258 ***\n",
       "age.grp65-70     6.2410     0.7220   8.644 2.40e-13 ***\n",
       "age.grpMissing   7.2553     2.1842   3.322 0.001309 ** \n",
       "sexM             4.1917     0.7680   5.458 4.47e-07 ***\n",
       "raceWhite       -4.9096     1.7151  -2.863 0.005264 ** \n",
       "raceMissing          NA         NA      NA       NA    \n",
       "areaUrban        2.6084     0.8579   3.040 0.003122 ** \n",
       "---\n",
       "Signif. codes:  0 ‘***’ 0.001 ‘**’ 0.01 ‘*’ 0.05 ‘.’ 0.1 ‘ ’ 1\n",
       "\n",
       "Residual standard error: 3.365 on 87 degrees of freedom\n",
       "  (2 observations deleted due to missingness)\n",
       "Multiple R-squared:  0.8691,\tAdjusted R-squared:  0.854 \n",
       "F-statistic: 57.76 on 10 and 87 DF,  p-value: < 2.2e-16\n"
      ]
     },
     "metadata": {},
     "output_type": "display_data"
    }
   ],
   "source": [
    "lm_bp <- lm(bp ~ smoke+ses+age.grp+sex+race+area, data=df)\n",
    "summary(lm_bp)"
   ]
  },
  {
   "cell_type": "code",
   "execution_count": 60,
   "metadata": {},
   "outputs": [
    {
     "data": {
      "text/plain": [
       "\n",
       "Call:\n",
       "lm(formula = bp ~ age, data = df)\n",
       "\n",
       "Residuals:\n",
       "     Min       1Q   Median       3Q      Max \n",
       "-15.1768  -6.8982  -0.3952   4.7067  20.3971 \n",
       "\n",
       "Coefficients:\n",
       "            Estimate Std. Error t value Pr(>|t|)    \n",
       "(Intercept)  50.6335     8.8148   5.744 1.08e-07 ***\n",
       "age           0.3584     0.1327   2.701  0.00817 ** \n",
       "---\n",
       "Signif. codes:  0 ‘***’ 0.001 ‘**’ 0.01 ‘*’ 0.05 ‘.’ 0.1 ‘ ’ 1\n",
       "\n",
       "Residual standard error: 8.535 on 96 degrees of freedom\n",
       "  (2 observations deleted due to missingness)\n",
       "Multiple R-squared:  0.07064,\tAdjusted R-squared:  0.06096 \n",
       "F-statistic: 7.297 on 1 and 96 DF,  p-value: 0.008166\n"
      ]
     },
     "metadata": {},
     "output_type": "display_data"
    }
   ],
   "source": [
    "lm_bp <- lm(bp ~ age, data=df)\n",
    "summary(lm_bp)"
   ]
  },
  {
   "cell_type": "code",
   "execution_count": 61,
   "metadata": {},
   "outputs": [
    {
     "data": {
      "image/png": "[encoded data removed]",
      "text/plain": [
       "Plot with title “Blood pressure vs. age”"
      ]
     },
     "metadata": {},
     "output_type": "display_data"
    }
   ],
   "source": [
    "plot(\n",
    "    df$age,\n",
    "    df$bp,\n",
    "    main='Blood pressure vs. age',\n",
    "    xlab='age',\n",
    "    ylab='blood pressure',\n",
    "    col=brewer.pal(3, 'Set2')[2],\n",
    "    pch=16\n",
    ")"
   ]
  },
  {
   "cell_type": "code",
   "execution_count": 62,
   "metadata": {},
   "outputs": [
    {
     "data": {
      "text/plain": [
       "\n",
       "Call:\n",
       "lm(formula = bp ~ age, data = df_clean)\n",
       "\n",
       "Residuals:\n",
       "     Min       1Q   Median       3Q      Max \n",
       "-15.3065  -6.7945  -0.6849   5.5438  18.6694 \n",
       "\n",
       "Coefficients:\n",
       "            Estimate Std. Error t value Pr(>|t|)    \n",
       "(Intercept)  -1.2789    18.9717  -0.067 0.946398    \n",
       "age           1.1590     0.2912   3.980 0.000136 ***\n",
       "---\n",
       "Signif. codes:  0 ‘***’ 0.001 ‘**’ 0.01 ‘*’ 0.05 ‘.’ 0.1 ‘ ’ 1\n",
       "\n",
       "Residual standard error: 8.202 on 93 degrees of freedom\n",
       "Multiple R-squared:  0.1455,\tAdjusted R-squared:  0.1364 \n",
       "F-statistic: 15.84 on 1 and 93 DF,  p-value: 0.0001364\n"
      ]
     },
     "metadata": {},
     "output_type": "display_data"
    }
   ],
   "source": [
    "df_clean <- df[df$age!=99 & !is.na(df$bp),]\n",
    "lm_bp <- lm(bp ~ age, data=df_clean)\n",
    "summary(lm_bp)"
   ]
  },
  {
   "cell_type": "code",
   "execution_count": 63,
   "metadata": {},
   "outputs": [
    {
     "data": {
      "image/png": "[encoded data removed]",
      "text/plain": [
       "Plot with title “Blood pressure vs. age”"
      ]
     },
     "metadata": {},
     "output_type": "display_data"
    }
   ],
   "source": [
    "# LOESS: locally weighted scatterplot smooting\n",
    "# good for exploratory analysis\n",
    "loess_curve <- loess.smooth(\n",
    "    df_clean$age, \n",
    "    df_clean$bp\n",
    ")\n",
    "plot(\n",
    "    df_clean$age,\n",
    "    df_clean$bp,\n",
    "    main='Blood pressure vs. age',\n",
    "    xlab='age',\n",
    "    ylab='blood pressure',\n",
    "    col=brewer.pal(3, 'Set2')[2],\n",
    "    pch=16\n",
    ")\n",
    "lines(\n",
    "    loess_curve$x,\n",
    "    loess_curve$y,\n",
    "    lwd=3, lty=2,\n",
    ")"
   ]
  },
  {
   "cell_type": "code",
   "execution_count": 64,
   "metadata": {},
   "outputs": [
    {
     "name": "stderr",
     "output_type": "stream",
     "text": [
      "Warning message in predict.lm(lm_bp, interval = c(\"prediction\")):\n",
      "“predictions on current data refer to _future_ responses\n",
      "”"
     ]
    },
    {
     "data": {
      "text/html": [
       "<table>\n",
       "<thead><tr><th></th><th scope=col>conf.fit</th><th scope=col>conf.lwr</th><th scope=col>conf.upr</th><th scope=col>pred.fit</th><th scope=col>pred.lwr</th><th scope=col>pred.upr</th></tr></thead>\n",
       "<tbody>\n",
       "\t<tr><th scope=row>1</th><td>71.74024</td><td>69.67985</td><td>73.80064</td><td>71.74024</td><td>55.32256</td><td>88.15793</td></tr>\n",
       "\t<tr><th scope=row>2</th><td>78.69445</td><td>75.88017</td><td>81.50874</td><td>78.69445</td><td>62.16523</td><td>95.22368</td></tr>\n",
       "\t<tr><th scope=row>3</th><td>79.85349</td><td>76.55598</td><td>83.15100</td><td>79.85349</td><td>63.23516</td><td>96.47181</td></tr>\n",
       "\t<tr><th scope=row>4</th><td>70.58121</td><td>68.13712</td><td>73.02530</td><td>70.58121</td><td>54.11097</td><td>87.05145</td></tr>\n",
       "\t<tr><th scope=row>5</th><td>77.53542</td><td>75.16146</td><td>79.90937</td><td>77.53542</td><td>61.07544</td><td>93.99539</td></tr>\n",
       "\t<tr><th scope=row>6</th><td>74.05831</td><td>72.38650</td><td>75.73012</td><td>74.05831</td><td>57.68486</td><td>90.43177</td></tr>\n",
       "</tbody>\n",
       "</table>\n"
      ],
      "text/latex": [
       "\\begin{tabular}{r|llllll}\n",
       "  & conf.fit & conf.lwr & conf.upr & pred.fit & pred.lwr & pred.upr\\\\\n",
       "\\hline\n",
       "\t1 & 71.74024 & 69.67985 & 73.80064 & 71.74024 & 55.32256 & 88.15793\\\\\n",
       "\t2 & 78.69445 & 75.88017 & 81.50874 & 78.69445 & 62.16523 & 95.22368\\\\\n",
       "\t3 & 79.85349 & 76.55598 & 83.15100 & 79.85349 & 63.23516 & 96.47181\\\\\n",
       "\t4 & 70.58121 & 68.13712 & 73.02530 & 70.58121 & 54.11097 & 87.05145\\\\\n",
       "\t5 & 77.53542 & 75.16146 & 79.90937 & 77.53542 & 61.07544 & 93.99539\\\\\n",
       "\t6 & 74.05831 & 72.38650 & 75.73012 & 74.05831 & 57.68486 & 90.43177\\\\\n",
       "\\end{tabular}\n"
      ],
      "text/markdown": [
       "\n",
       "| <!--/--> | conf.fit | conf.lwr | conf.upr | pred.fit | pred.lwr | pred.upr | \n",
       "|---|---|---|---|---|---|\n",
       "| 1 | 71.74024 | 69.67985 | 73.80064 | 71.74024 | 55.32256 | 88.15793 | \n",
       "| 2 | 78.69445 | 75.88017 | 81.50874 | 78.69445 | 62.16523 | 95.22368 | \n",
       "| 3 | 79.85349 | 76.55598 | 83.15100 | 79.85349 | 63.23516 | 96.47181 | \n",
       "| 4 | 70.58121 | 68.13712 | 73.02530 | 70.58121 | 54.11097 | 87.05145 | \n",
       "| 5 | 77.53542 | 75.16146 | 79.90937 | 77.53542 | 61.07544 | 93.99539 | \n",
       "| 6 | 74.05831 | 72.38650 | 75.73012 | 74.05831 | 57.68486 | 90.43177 | \n",
       "\n",
       "\n"
      ],
      "text/plain": [
       "  conf.fit conf.lwr conf.upr pred.fit pred.lwr pred.upr\n",
       "1 71.74024 69.67985 73.80064 71.74024 55.32256 88.15793\n",
       "2 78.69445 75.88017 81.50874 78.69445 62.16523 95.22368\n",
       "3 79.85349 76.55598 83.15100 79.85349 63.23516 96.47181\n",
       "4 70.58121 68.13712 73.02530 70.58121 54.11097 87.05145\n",
       "5 77.53542 75.16146 79.90937 77.53542 61.07544 93.99539\n",
       "6 74.05831 72.38650 75.73012 74.05831 57.68486 90.43177"
      ]
     },
     "metadata": {},
     "output_type": "display_data"
    }
   ],
   "source": [
    "conf <- predict(lm_bp, interval=c('confidence'))\n",
    "pred <- predict(lm_bp, interval=c('prediction'))\n",
    "colnames(conf) <- paste('conf', colnames(conf), sep='.')\n",
    "colnames(pred) <- paste('pred', colnames(pred), sep='.')\n",
    "head(cbind(conf, pred))"
   ]
  },
  {
   "cell_type": "code",
   "execution_count": 65,
   "metadata": {},
   "outputs": [
    {
     "data": {
      "text/html": [
       "<table>\n",
       "<thead><tr><th></th><th scope=col>age</th><th scope=col>conf.fit</th><th scope=col>conf.lwr</th><th scope=col>conf.upr</th><th scope=col>pred.lwr</th><th scope=col>pred.upr</th></tr></thead>\n",
       "<tbody>\n",
       "\t<tr><th scope=row>19</th><td>60      </td><td>68.26314</td><td>64.88131</td><td>71.64497</td><td>51.62788</td><td>84.89840</td></tr>\n",
       "\t<tr><th scope=row>28</th><td>60      </td><td>68.26314</td><td>64.88131</td><td>71.64497</td><td>51.62788</td><td>84.89840</td></tr>\n",
       "\t<tr><th scope=row>38</th><td>60      </td><td>68.26314</td><td>64.88131</td><td>71.64497</td><td>51.62788</td><td>84.89840</td></tr>\n",
       "\t<tr><th scope=row>39</th><td>60      </td><td>68.26314</td><td>64.88131</td><td>71.64497</td><td>51.62788</td><td>84.89840</td></tr>\n",
       "\t<tr><th scope=row>45</th><td>60      </td><td>68.26314</td><td>64.88131</td><td>71.64497</td><td>51.62788</td><td>84.89840</td></tr>\n",
       "\t<tr><th scope=row>8</th><td>61      </td><td>69.42218</td><td>66.52895</td><td>72.31540</td><td>52.87932</td><td>85.96503</td></tr>\n",
       "</tbody>\n",
       "</table>\n"
      ],
      "text/latex": [
       "\\begin{tabular}{r|llllll}\n",
       "  & age & conf.fit & conf.lwr & conf.upr & pred.lwr & pred.upr\\\\\n",
       "\\hline\n",
       "\t19 & 60       & 68.26314 & 64.88131 & 71.64497 & 51.62788 & 84.89840\\\\\n",
       "\t28 & 60       & 68.26314 & 64.88131 & 71.64497 & 51.62788 & 84.89840\\\\\n",
       "\t38 & 60       & 68.26314 & 64.88131 & 71.64497 & 51.62788 & 84.89840\\\\\n",
       "\t39 & 60       & 68.26314 & 64.88131 & 71.64497 & 51.62788 & 84.89840\\\\\n",
       "\t45 & 60       & 68.26314 & 64.88131 & 71.64497 & 51.62788 & 84.89840\\\\\n",
       "\t8 & 61       & 69.42218 & 66.52895 & 72.31540 & 52.87932 & 85.96503\\\\\n",
       "\\end{tabular}\n"
      ],
      "text/markdown": [
       "\n",
       "| <!--/--> | age | conf.fit | conf.lwr | conf.upr | pred.lwr | pred.upr | \n",
       "|---|---|---|---|---|---|\n",
       "| 19 | 60       | 68.26314 | 64.88131 | 71.64497 | 51.62788 | 84.89840 | \n",
       "| 28 | 60       | 68.26314 | 64.88131 | 71.64497 | 51.62788 | 84.89840 | \n",
       "| 38 | 60       | 68.26314 | 64.88131 | 71.64497 | 51.62788 | 84.89840 | \n",
       "| 39 | 60       | 68.26314 | 64.88131 | 71.64497 | 51.62788 | 84.89840 | \n",
       "| 45 | 60       | 68.26314 | 64.88131 | 71.64497 | 51.62788 | 84.89840 | \n",
       "| 8 | 61       | 69.42218 | 66.52895 | 72.31540 | 52.87932 | 85.96503 | \n",
       "\n",
       "\n"
      ],
      "text/plain": [
       "   age conf.fit conf.lwr conf.upr pred.lwr pred.upr\n",
       "19 60  68.26314 64.88131 71.64497 51.62788 84.89840\n",
       "28 60  68.26314 64.88131 71.64497 51.62788 84.89840\n",
       "38 60  68.26314 64.88131 71.64497 51.62788 84.89840\n",
       "39 60  68.26314 64.88131 71.64497 51.62788 84.89840\n",
       "45 60  68.26314 64.88131 71.64497 51.62788 84.89840\n",
       "8  61  69.42218 66.52895 72.31540 52.87932 85.96503"
      ]
     },
     "metadata": {},
     "output_type": "display_data"
    }
   ],
   "source": [
    "intv <- data.frame(\n",
    "    age = df_clean$age,\n",
    "    conf,\n",
    "    pred[ ,2:3]\n",
    ")\n",
    "intv <- intv[order(intv$age), ]\n",
    "head(intv)"
   ]
  },
  {
   "cell_type": "code",
   "execution_count": 66,
   "metadata": {},
   "outputs": [
    {
     "data": {
      "image/png": "[encoded data removed]",
      "text/plain": [
       "Plot with title “Prediction and confidence interval”"
      ]
     },
     "metadata": {},
     "output_type": "display_data"
    }
   ],
   "source": [
    "plot(\n",
    "    intv$age,\n",
    "    intv$conf.fit,\n",
    "    type='l',\n",
    "    lwd=1.5,\n",
    "    col=brewer.pal(3, 'Set2')[1],\n",
    "    ylim=c(50, 110),\n",
    "    xlab='age',\n",
    "    ylab='blood pressure',\n",
    "    main='Prediction and confidence interval',\n",
    "    bty='n'\n",
    ")\n",
    "lines(intv$age, intv$conf.lwr, \n",
    "      col=brewer.pal(3, 'Set2')[2])\n",
    "lines(intv$age, intv$conf.upr, \n",
    "      col=brewer.pal(3, 'Set2')[2])\n",
    "lines(intv$age, intv$pred.lwr, lty=2,\n",
    "      col=brewer.pal(3, 'Set2')[3])\n",
    "lines(intv$age, intv$pred.upr, lty=2,\n",
    "      col=brewer.pal(3, 'Set2')[3])\n",
    "legend(\n",
    "    'topleft',\n",
    "    c(\n",
    "        'Fitted line', \n",
    "        'Confidence interval', \n",
    "        'Prediction interval'\n",
    "    ),\n",
    "    col=brewer.pal(3, 'Set2'),\n",
    "    lty=c(1, 1, 2),\n",
    "    border=FALSE,\n",
    "    bg='white',\n",
    "    bty='n',\n",
    "    xjust=0.5,\n",
    "    y.intersp=2.5,\n",
    "    cex=0.8,\n",
    "    xpd=TRUE\n",
    ")"
   ]
  },
  {
   "cell_type": "markdown",
   "metadata": {},
   "source": [
    "### Logistic regression"
   ]
  },
  {
   "cell_type": "code",
   "execution_count": 67,
   "metadata": {},
   "outputs": [
    {
     "data": {
      "text/plain": [
       "\n",
       "Call:\n",
       "glm(formula = smoke ~ age.grp + ses + area, family = binomial(link = \"logit\"), \n",
       "    data = df)\n",
       "\n",
       "Deviance Residuals: \n",
       "    Min       1Q   Median       3Q      Max  \n",
       "-1.1389  -0.8209  -0.7890   1.2276   1.6975  \n",
       "\n",
       "Coefficients:\n",
       "               Estimate Std. Error z value Pr(>|z|)  \n",
       "(Intercept)    -1.14474    0.61378  -1.865   0.0622 .\n",
       "age.grp65-70   -0.02594    0.45993  -0.056   0.9550  \n",
       "age.grpMissing  0.40518    1.33303   0.304   0.7612  \n",
       "sesMedium       0.09301    0.55858   0.167   0.8678  \n",
       "sesLow          0.91616    0.61488   1.490   0.1362  \n",
       "sesMissing      0.46887    1.37412   0.341   0.7329  \n",
       "areaUrban       0.13719    0.52830   0.260   0.7951  \n",
       "---\n",
       "Signif. codes:  0 ‘***’ 0.001 ‘**’ 0.01 ‘*’ 0.05 ‘.’ 0.1 ‘ ’ 1\n",
       "\n",
       "(Dispersion parameter for binomial family taken to be 1)\n",
       "\n",
       "    Null deviance: 125.37  on 99  degrees of freedom\n",
       "Residual deviance: 122.50  on 93  degrees of freedom\n",
       "AIC: 136.5\n",
       "\n",
       "Number of Fisher Scoring iterations: 4\n"
      ]
     },
     "metadata": {},
     "output_type": "display_data"
    }
   ],
   "source": [
    "logit_smk <- glm(\n",
    "    smoke~age.grp+ses+area, \n",
    "    data=df,\n",
    "    family=binomial(link='logit')\n",
    ")\n",
    "summary(logit_smk)"
   ]
  },
  {
   "cell_type": "markdown",
   "metadata": {},
   "source": [
    "### Survival analysis"
   ]
  },
  {
   "cell_type": "code",
   "execution_count": 68,
   "metadata": {},
   "outputs": [
    {
     "data": {
      "text/plain": [
       "Time differences in days\n",
       "[1] 125  92  89 118  69 109"
      ]
     },
     "metadata": {},
     "output_type": "display_data"
    },
    {
     "name": "stdout",
     "output_type": "stream",
     "text": [
      "Class 'difftime'  atomic [1:100] 125 92 89 118 69 109 119 336 83 439 ...\n",
      "  ..- attr(*, \"units\")= chr \"days\"\n"
     ]
    }
   ],
   "source": [
    "library(survival)\n",
    "df$surv <- df$stop-df$start\n",
    "head(df$surv)\n",
    "str(df$surv)"
   ]
  },
  {
   "cell_type": "code",
   "execution_count": 69,
   "metadata": {},
   "outputs": [
    {
     "name": "stderr",
     "output_type": "stream",
     "text": [
      "Warning message in coxph(Surv(surv, event) ~ age.grp + sex + smoke + bp + race + :\n",
      "“X matrix deemed to be singular; variable 12”"
     ]
    },
    {
     "data": {
      "text/plain": [
       "Call:\n",
       "coxph(formula = Surv(surv, event) ~ age.grp + sex + smoke + bp + \n",
       "    race + area + ses, data = df)\n",
       "\n",
       "  n= 98, number of events= 77 \n",
       "   (2 observations deleted due to missingness)\n",
       "\n",
       "                    coef exp(coef)  se(coef)      z Pr(>|z|)    \n",
       "age.grp65-70    0.503845  1.655073  0.411061  1.226 0.220304    \n",
       "age.grpMissing  0.688740  1.991204  0.721758  0.954 0.339956    \n",
       "sexM           -0.151775  0.859181  0.301036 -0.504 0.614137    \n",
       "smokeSmoker    -4.552088  0.010545  1.045195 -4.355 1.33e-05 ***\n",
       "smokeMissing   -4.732575  0.008804  1.330963 -3.556 0.000377 ***\n",
       "bp             -0.008956  0.991084  0.044220 -0.203 0.839501    \n",
       "raceWhite      -0.356816  0.699901  0.736170 -0.485 0.627894    \n",
       "raceMissing    -0.897543  0.407570  1.078741 -0.832 0.405393    \n",
       "areaUrban       0.236598  1.266931  0.342271  0.691 0.489403    \n",
       "sesMedium      -0.374882  0.687370  0.357756 -1.048 0.294698    \n",
       "sesLow          0.413886  1.512685  0.580819  0.713 0.476099    \n",
       "sesMissing            NA        NA  0.000000     NA       NA    \n",
       "---\n",
       "Signif. codes:  0 ‘***’ 0.001 ‘**’ 0.01 ‘*’ 0.05 ‘.’ 0.1 ‘ ’ 1\n",
       "\n",
       "               exp(coef) exp(-coef) lower .95 upper .95\n",
       "age.grp65-70    1.655073     0.6042 0.7394718   3.70436\n",
       "age.grpMissing  1.991204     0.5022 0.4838985   8.19365\n",
       "sexM            0.859181     1.1639 0.4762583   1.54998\n",
       "smokeSmoker     0.010545    94.8302 0.0013595   0.08179\n",
       "smokeMissing    0.008804   113.5877 0.0006483   0.11956\n",
       "bp              0.991084     1.0090 0.9088048   1.08081\n",
       "raceWhite       0.699901     1.4288 0.1653513   2.96255\n",
       "raceMissing     0.407570     2.4536 0.0492012   3.37620\n",
       "areaUrban       1.266931     0.7893 0.6477564   2.47796\n",
       "sesMedium       0.687370     1.4548 0.3409326   1.38584\n",
       "sesLow          1.512685     0.6611 0.4845680   4.72218\n",
       "sesMissing            NA         NA        NA        NA\n",
       "\n",
       "Concordance= 0.772  (se = 0.037 )\n",
       "Rsquare= 0.647   (max possible= 0.998 )\n",
       "Likelihood ratio test= 102.2  on 11 df,   p=1.11e-16\n",
       "Wald test            = 40.92  on 11 df,   p=2.489e-05\n",
       "Score (logrank) test = 80.82  on 11 df,   p=1.024e-12\n"
      ]
     },
     "metadata": {},
     "output_type": "display_data"
    }
   ],
   "source": [
    "sm_event <- coxph(\n",
    "    Surv(surv, event)~age.grp+sex+smoke+bp+race+area+ses,\n",
    "    data=df\n",
    ")\n",
    "summary(sm_event)"
   ]
  },
  {
   "cell_type": "code",
   "execution_count": 70,
   "metadata": {},
   "outputs": [
    {
     "data": {
      "text/plain": [
       "Call:\n",
       "coxph(formula = Surv(surv, event) ~ age.grp + sex + smoke + bp + \n",
       "    area + ses, data = df)\n",
       "\n",
       "  n= 98, number of events= 77 \n",
       "   (2 observations deleted due to missingness)\n",
       "\n",
       "                    coef exp(coef)  se(coef)      z Pr(>|z|)    \n",
       "age.grp65-70    0.461231  1.586026  0.401116  1.150 0.250197    \n",
       "age.grpMissing  0.617391  1.854084  0.704072  0.877 0.380549    \n",
       "sexM           -0.199932  0.818786  0.283128 -0.706 0.480092    \n",
       "smokeSmoker    -4.358761  0.012794  0.959855 -4.541  5.6e-06 ***\n",
       "smokeMissing   -4.543416  0.010637  1.261849 -3.601 0.000317 ***\n",
       "bp             -0.002498  0.997505  0.041864 -0.060 0.952414    \n",
       "areaUrban       0.163044  1.177089  0.307431  0.530 0.595874    \n",
       "sesMedium      -0.354524  0.701507  0.353142 -1.004 0.315421    \n",
       "sesLow          0.383757  1.467788  0.579012  0.663 0.507472    \n",
       "sesMissing     -0.581842  0.558868  0.849832 -0.685 0.493562    \n",
       "---\n",
       "Signif. codes:  0 ‘***’ 0.001 ‘**’ 0.01 ‘*’ 0.05 ‘.’ 0.1 ‘ ’ 1\n",
       "\n",
       "               exp(coef) exp(-coef) lower .95 upper .95\n",
       "age.grp65-70     1.58603     0.6305 0.7225702   3.48129\n",
       "age.grpMissing   1.85408     0.5393 0.4664685   7.36947\n",
       "sexM             0.81879     1.2213 0.4700794   1.42616\n",
       "smokeSmoker      0.01279    78.1603 0.0019498   0.08395\n",
       "smokeMissing     0.01064    94.0114 0.0008969   0.12616\n",
       "bp               0.99750     1.0025 0.9189262   1.08280\n",
       "areaUrban        1.17709     0.8496 0.6443518   2.15028\n",
       "sesMedium        0.70151     1.4255 0.3511047   1.40161\n",
       "sesLow           1.46779     0.6813 0.4718540   4.56582\n",
       "sesMissing       0.55887     1.7893 0.1056650   2.95589\n",
       "\n",
       "Concordance= 0.77  (se = 0.037 )\n",
       "Rsquare= 0.647   (max possible= 0.998 )\n",
       "Likelihood ratio test= 101.9  on 10 df,   p=0\n",
       "Wald test            = 40.37  on 10 df,   p=1.459e-05\n",
       "Score (logrank) test = 80.05  on 10 df,   p=4.919e-13\n"
      ]
     },
     "metadata": {},
     "output_type": "display_data"
    }
   ],
   "source": [
    "sm_event <- coxph(\n",
    "    Surv(surv, event)~age.grp+sex+smoke+bp+area+ses,\n",
    "    data=df\n",
    ")\n",
    "summary(sm_event)"
   ]
  },
  {
   "cell_type": "code",
   "execution_count": 71,
   "metadata": {},
   "outputs": [
    {
     "data": {
      "text/html": [
       "<table>\n",
       "<thead><tr><th></th><th scope=col>hazard.ratio</th><th scope=col>conf.lwr</th><th scope=col>conf.upr</th><th scope=col>p.value</th></tr></thead>\n",
       "<tbody>\n",
       "\t<tr><th scope=row>age.grp65-70</th><td>1.5860</td><td>0.7226</td><td>3.4813</td><td>0.2502</td></tr>\n",
       "\t<tr><th scope=row>age.grpMissing</th><td>1.8541</td><td>0.4665</td><td>7.3695</td><td>0.3805</td></tr>\n",
       "\t<tr><th scope=row>sexM</th><td>0.8188</td><td>0.4701</td><td>1.4262</td><td>0.4801</td></tr>\n",
       "\t<tr><th scope=row>smokeSmoker</th><td>0.0128</td><td>0.0019</td><td>0.0840</td><td>0.0000</td></tr>\n",
       "\t<tr><th scope=row>smokeMissing</th><td>0.0106</td><td>0.0009</td><td>0.1262</td><td>0.0003</td></tr>\n",
       "\t<tr><th scope=row>bp</th><td>0.9975</td><td>0.9189</td><td>1.0828</td><td>0.9524</td></tr>\n",
       "\t<tr><th scope=row>areaUrban</th><td>1.1771</td><td>0.6444</td><td>2.1503</td><td>0.5959</td></tr>\n",
       "\t<tr><th scope=row>sesMedium</th><td>0.7015</td><td>0.3511</td><td>1.4016</td><td>0.3154</td></tr>\n",
       "\t<tr><th scope=row>sesLow</th><td>1.4678</td><td>0.4719</td><td>4.5658</td><td>0.5075</td></tr>\n",
       "\t<tr><th scope=row>sesMissing</th><td>0.5589</td><td>0.1057</td><td>2.9559</td><td>0.4936</td></tr>\n",
       "</tbody>\n",
       "</table>\n"
      ],
      "text/latex": [
       "\\begin{tabular}{r|llll}\n",
       "  & hazard.ratio & conf.lwr & conf.upr & p.value\\\\\n",
       "\\hline\n",
       "\tage.grp65-70 & 1.5860 & 0.7226 & 3.4813 & 0.2502\\\\\n",
       "\tage.grpMissing & 1.8541 & 0.4665 & 7.3695 & 0.3805\\\\\n",
       "\tsexM & 0.8188 & 0.4701 & 1.4262 & 0.4801\\\\\n",
       "\tsmokeSmoker & 0.0128 & 0.0019 & 0.0840 & 0.0000\\\\\n",
       "\tsmokeMissing & 0.0106 & 0.0009 & 0.1262 & 0.0003\\\\\n",
       "\tbp & 0.9975 & 0.9189 & 1.0828 & 0.9524\\\\\n",
       "\tareaUrban & 1.1771 & 0.6444 & 2.1503 & 0.5959\\\\\n",
       "\tsesMedium & 0.7015 & 0.3511 & 1.4016 & 0.3154\\\\\n",
       "\tsesLow & 1.4678 & 0.4719 & 4.5658 & 0.5075\\\\\n",
       "\tsesMissing & 0.5589 & 0.1057 & 2.9559 & 0.4936\\\\\n",
       "\\end{tabular}\n"
      ],
      "text/markdown": [
       "\n",
       "| <!--/--> | hazard.ratio | conf.lwr | conf.upr | p.value | \n",
       "|---|---|---|---|---|---|---|---|---|---|\n",
       "| age.grp65-70 | 1.5860 | 0.7226 | 3.4813 | 0.2502 | \n",
       "| age.grpMissing | 1.8541 | 0.4665 | 7.3695 | 0.3805 | \n",
       "| sexM | 0.8188 | 0.4701 | 1.4262 | 0.4801 | \n",
       "| smokeSmoker | 0.0128 | 0.0019 | 0.0840 | 0.0000 | \n",
       "| smokeMissing | 0.0106 | 0.0009 | 0.1262 | 0.0003 | \n",
       "| bp | 0.9975 | 0.9189 | 1.0828 | 0.9524 | \n",
       "| areaUrban | 1.1771 | 0.6444 | 2.1503 | 0.5959 | \n",
       "| sesMedium | 0.7015 | 0.3511 | 1.4016 | 0.3154 | \n",
       "| sesLow | 1.4678 | 0.4719 | 4.5658 | 0.5075 | \n",
       "| sesMissing | 0.5589 | 0.1057 | 2.9559 | 0.4936 | \n",
       "\n",
       "\n"
      ],
      "text/plain": [
       "               hazard.ratio conf.lwr conf.upr p.value\n",
       "age.grp65-70   1.5860       0.7226   3.4813   0.2502 \n",
       "age.grpMissing 1.8541       0.4665   7.3695   0.3805 \n",
       "sexM           0.8188       0.4701   1.4262   0.4801 \n",
       "smokeSmoker    0.0128       0.0019   0.0840   0.0000 \n",
       "smokeMissing   0.0106       0.0009   0.1262   0.0003 \n",
       "bp             0.9975       0.9189   1.0828   0.9524 \n",
       "areaUrban      1.1771       0.6444   2.1503   0.5959 \n",
       "sesMedium      0.7015       0.3511   1.4016   0.3154 \n",
       "sesLow         1.4678       0.4719   4.5658   0.5075 \n",
       "sesMissing     0.5589       0.1057   2.9559   0.4936 "
      ]
     },
     "metadata": {},
     "output_type": "display_data"
    }
   ],
   "source": [
    "sm_est <- exp(coef(sm_event))\n",
    "sm_ci <- exp(confint(sm_event))\n",
    "sm_res <- cbind(\n",
    "    hazard.ratio=round(sm_est,4), \n",
    "    conf.lwr=round(sm_ci[,1], 4),\n",
    "    conf.upr=round(sm_ci[,2], 4),\n",
    "    p.value=round(summary(sm_event)$coefficients[ ,5], 4)\n",
    ")\n",
    "sm_res\n",
    "write.csv(sm_res, '../results/hazard-ratio-estimates.csv')"
   ]
  },
  {
   "cell_type": "code",
   "execution_count": 72,
   "metadata": {},
   "outputs": [
    {
     "name": "stdout",
     "output_type": "stream",
     "text": [
      "List of 13\n",
      " $ n        : int 97\n",
      " $ time     : num [1:84] 30 37 48 52 54 58 63 69 70 71 ...\n",
      " $ n.risk   : num [1:84] 97 96 95 92 91 90 89 88 87 86 ...\n",
      " $ n.event  : num [1:84] 1 1 3 1 1 1 1 1 1 2 ...\n",
      " $ n.censor : num [1:84] 0 0 0 0 0 0 0 0 0 0 ...\n",
      " $ surv     : num [1:84] 0.99 0.979 0.948 0.938 0.928 ...\n",
      " $ type     : chr \"right\"\n",
      " $ std.err  : num [1:84] 0.0104 0.0147 0.0237 0.0261 0.0283 ...\n",
      " $ upper    : num [1:84] 0.999 0.995 0.978 0.972 0.965 ...\n",
      " $ lower    : num [1:84] 0.929 0.92 0.881 0.867 0.855 ...\n",
      " $ conf.type: chr \"log-log\"\n",
      " $ conf.int : num 0.95\n",
      " $ call     : language survfit(formula = Surv(surv, event) ~ 1, data = df[df$smoke != \"Missing\",      ], conf.type = \"log-log\")\n",
      " - attr(*, \"class\")= chr \"survfit\"\n"
     ]
    }
   ],
   "source": [
    "sfit <- survfit(Surv(surv, event)~1, \n",
    "                  data=df[df$smoke!='Missing',], \n",
    "                  conf.type='log-log')\n",
    "str(sfit)"
   ]
  },
  {
   "cell_type": "code",
   "execution_count": 73,
   "metadata": {},
   "outputs": [
    {
     "data": {
      "text/html": [
       "<strong>pdf:</strong> 2"
      ],
      "text/latex": [
       "\\textbf{pdf:} 2"
      ],
      "text/markdown": [
       "**pdf:** 2"
      ],
      "text/plain": [
       "pdf \n",
       "  2 "
      ]
     },
     "metadata": {},
     "output_type": "display_data"
    }
   ],
   "source": [
    "pdf('../plots//sfit_figure.pdf', pointsize=13)\n",
    "par(family='serif')\n",
    "plot(\n",
    "    sfit$time,\n",
    "    sfit$surv,\n",
    "    type='s',\n",
    "    main='Survival plot',\n",
    "    ylab='Survival',\n",
    "    xlab='Days',\n",
    "    xlim=c(0,500),\n",
    "    col=brewer.pal(4, 'Set2')[1],\n",
    "    bty='n',\n",
    "    yaxt='n'\n",
    ")\n",
    "axis(\n",
    "    2,\n",
    "    at = seq(0,1,0.5),\n",
    "    labels=paste(seq(0,100,50), '%', sep=''),\n",
    "    las=2\n",
    ")\n",
    "lines(\n",
    "    sfit$time, \n",
    "    sfit$upper, \n",
    "    lty=2,\n",
    "    col=brewer.pal(4, 'Set2')[2]\n",
    ")\n",
    "lines(\n",
    "    sfit$time, \n",
    "    sfit$lower, \n",
    "    lty=2,\n",
    "    col=brewer.pal(4, 'Set2')[2]\n",
    ")\n",
    "legend(\n",
    "    'topright',\n",
    "    c(\n",
    "        'Survival', \n",
    "        'Confidence interval'\n",
    "    ),\n",
    "    col=brewer.pal(3, 'Set2')[1:2],\n",
    "    lty=c(1, 2),\n",
    "    border=FALSE,\n",
    "    bg='white',\n",
    "    bty='n',\n",
    "    xjust=0.5,\n",
    "    y.intersp=1.5,\n",
    "    xpd=TRUE\n",
    ")\n",
    "dev.off()"
   ]
  },
  {
   "cell_type": "markdown",
   "metadata": {},
   "source": [
    "## Other references\n",
    "+ [Growing R user base](https://stackoverflow.blog/2017/10/10/impressive-growth-r/)\n",
    "+ [Tidyverse](https://www.tidyverse.org/)\n",
    "+ [DataCamp](https://www.datacamp.com/)\n",
    "+ [Coursera](https://www.coursera.org/)"
   ]
  }
 ],
 "metadata": {
  "kernelspec": {
   "display_name": "R",
   "language": "R",
   "name": "ir"
  },
  "language_info": {
   "codemirror_mode": "r",
   "file_extension": ".r",
   "mimetype": "text/x-r-source",
   "name": "R",
   "pygments_lexer": "r",
   "version": "3.4.2"
  }
 },
 "nbformat": 4,
 "nbformat_minor": 2
}
